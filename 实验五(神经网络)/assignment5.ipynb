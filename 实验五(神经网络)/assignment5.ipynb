{
 "cells": [
  {
   "cell_type": "markdown",
   "id": "e59a56ee",
   "metadata": {},
   "source": [
    "**<font color = black size=6>实验五：神经网络中的前向传播与后向传播</font>**"
   ]
  },
  {
   "cell_type": "code",
   "execution_count": 1,
   "id": "62f100c9",
   "metadata": {},
   "outputs": [],
   "source": [
    "import numpy as np\n",
    "import pandas as pd\n",
    "import matplotlib.pyplot as plt\n",
    "from scipy.io import loadmat\n",
    "from sklearn.preprocessing import OneHotEncoder"
   ]
  },
  {
   "cell_type": "markdown",
   "id": "eebaf0fe",
   "metadata": {},
   "source": [
    "**<font color = blue size=4>第一部分:PyTorch介绍</font>**"
   ]
  },
  {
   "cell_type": "markdown",
   "id": "2a394db6",
   "metadata": {},
   "source": [
    "这里介绍一小部分PyTorch常用的库和函数，更多需求可参阅[PyTorch官方教程](https://pytorch.org/tutorials/beginner/deep_learning_60min_blitz.html)以及[PyTorch官方文档](https://pytorch.org/docs/stable/index.html)。"
   ]
  },
  {
   "cell_type": "code",
   "execution_count": 2,
   "id": "6fae149b",
   "metadata": {},
   "outputs": [
    {
     "name": "stderr",
     "output_type": "stream",
     "text": [
      "e:\\Anaconda3\\envs\\VoiceRecognition\\lib\\site-packages\\tqdm\\auto.py:22: TqdmWarning: IProgress not found. Please update jupyter and ipywidgets. See https://ipywidgets.readthedocs.io/en/stable/user_install.html\n",
      "  from .autonotebook import tqdm as notebook_tqdm\n"
     ]
    },
    {
     "name": "stdout",
     "output_type": "stream",
     "text": [
      "1.12.1+cu116\n"
     ]
    }
   ],
   "source": [
    "import torch # 导入的是 torch 而不是 pytorch\n",
    "print(torch.__version__) # 输出当前pytorch的版本"
   ]
  },
  {
   "cell_type": "markdown",
   "id": "392780bb",
   "metadata": {},
   "source": [
    "1.Tensor"
   ]
  },
  {
   "cell_type": "markdown",
   "id": "904623e4",
   "metadata": {},
   "source": [
    "Tensor与NumPy中的ndarray很相似，但Tensor可以利用GPU来加速计算（虽然本门课不用）。"
   ]
  },
  {
   "cell_type": "markdown",
   "id": "23642996",
   "metadata": {},
   "source": [
    "1.1. Tensor的创建"
   ]
  },
  {
   "cell_type": "code",
   "execution_count": 3,
   "id": "38cdf3ad",
   "metadata": {},
   "outputs": [
    {
     "name": "stdout",
     "output_type": "stream",
     "text": [
      "tensor([[3.3703e-06, 1.0081e-08, 2.5668e-09],\n",
      "        [1.3458e+22, 5.1659e-11, 4.2330e+21]])\n",
      "tensor([[1, 2, 3],\n",
      "        [4, 5, 6]])\n",
      "tensor([[0.6392, 0.2632, 0.4158, 0.0573],\n",
      "        [0.9262, 0.1786, 0.6161, 0.3162],\n",
      "        [0.9791, 0.7191, 0.8257, 0.3324]])\n",
      "tensor([[0., 0., 0.],\n",
      "        [0., 0., 0.]])\n",
      "tensor([[1., 1., 1.],\n",
      "        [1., 1., 1.]])\n"
     ]
    }
   ],
   "source": [
    "# 创建一个未初始化的Tensor\n",
    "x = torch.empty(2, 3)\n",
    "print(x)\n",
    "\n",
    "# 从一个列表创建Tensor\n",
    "x = torch.tensor([[1,2,3],[4,5,6]])\n",
    "print(x)\n",
    "\n",
    "# 创建一个随机Tensor\n",
    "x = torch.rand([3, 4])\n",
    "print(x)\n",
    "\n",
    "# 创建一个全零Tensor\n",
    "x = torch.zeros([2, 3])\n",
    "print(x)\n",
    "\n",
    "# 创建一个全一Tensor\n",
    "x = torch.ones([2, 3])\n",
    "print(x)"
   ]
  },
  {
   "cell_type": "markdown",
   "id": "9f354fd4",
   "metadata": {},
   "source": [
    "1.2. Tensor的运算"
   ]
  },
  {
   "cell_type": "code",
   "execution_count": 4,
   "id": "8070a903",
   "metadata": {},
   "outputs": [
    {
     "name": "stdout",
     "output_type": "stream",
     "text": [
      "tensor([[7, 7, 7],\n",
      "        [7, 7, 7]])\n",
      "tensor([[-5, -3, -1],\n",
      "        [ 1,  3,  5]])\n",
      "tensor([[ 6, 10, 12],\n",
      "        [12, 10,  6]])\n",
      "tensor([[ 6, 10, 12],\n",
      "        [12, 10,  6]])\n",
      "tensor([[28, 10],\n",
      "        [73, 28]])\n",
      "tensor([[28, 10],\n",
      "        [73, 28]])\n",
      "tensor([[1, 2],\n",
      "        [3, 4],\n",
      "        [5, 6]])\n",
      "tensor([[1, 2, 3],\n",
      "        [4, 5, 6],\n",
      "        [6, 5, 4],\n",
      "        [3, 2, 1]])\n",
      "tensor([[1, 2, 3, 6, 5, 4],\n",
      "        [4, 5, 6, 3, 2, 1]])\n"
     ]
    }
   ],
   "source": [
    "# 加减法\n",
    "x = torch.tensor([[1,2,3],[4,5,6]])\n",
    "y = torch.tensor([[6,5,4],[3,2,1]])\n",
    "print(x + y)\n",
    "print(x - y)\n",
    "\n",
    "# 对应位置相乘\n",
    "print(x * y)\n",
    "print(x.mul(y))\n",
    "\n",
    "# 矩阵乘法\n",
    "print(x.matmul(y.T))\n",
    "print(x @ y.T)\n",
    "\n",
    "# reshape\n",
    "print(x.reshape(3, 2))\n",
    "\n",
    "# 拼接\n",
    "print(torch.cat([x,y], dim=0)) # 纵向拼接\n",
    "print(torch.cat([x,y], dim=1)) # 横向拼接"
   ]
  },
  {
   "cell_type": "markdown",
   "id": "95961cee",
   "metadata": {},
   "source": [
    "1.3. Tensor与ndarray的相互转换"
   ]
  },
  {
   "cell_type": "code",
   "execution_count": 5,
   "id": "d1269212",
   "metadata": {},
   "outputs": [
    {
     "name": "stdout",
     "output_type": "stream",
     "text": [
      "tensor([[1, 2, 3],\n",
      "        [4, 5, 6]])\n",
      "[[1 2 3]\n",
      " [4 5 6]]\n",
      "[[0 0 0]\n",
      " [0 0 0]]\n",
      "tensor([[0, 0, 0],\n",
      "        [0, 0, 0]])\n"
     ]
    }
   ],
   "source": [
    "x = torch.tensor([[1,2,3],[4,5,6]])\n",
    "print(x)\n",
    "\n",
    "# 从Tensor转换到ndarray\n",
    "y = x.numpy()\n",
    "print(y)\n",
    "\n",
    "# Tensor与ndarray是共享空间的\n",
    "x[:]=0\n",
    "print(y)\n",
    "\n",
    "# 从ndarray到Tensor\n",
    "z = torch.from_numpy(y)\n",
    "print(z)"
   ]
  },
  {
   "cell_type": "markdown",
   "id": "bb6c36a7",
   "metadata": {},
   "source": [
    "2.自动求梯度"
   ]
  },
  {
   "cell_type": "code",
   "execution_count": 6,
   "id": "3b30fec3",
   "metadata": {},
   "outputs": [
    {
     "name": "stdout",
     "output_type": "stream",
     "text": [
      "tensor([[3., 4.]]) tensor(1.)\n",
      "tensor([0.1966, 0.1966, 0.1966, 0.1966, 0.1966, 0.1966, 0.1966, 0.1966, 0.1966,\n",
      "        0.1966, 0.1966, 0.1966, 0.1966, 0.1966, 0.1966, 0.1966, 0.1966, 0.1966,\n",
      "        0.1966, 0.1966])\n",
      "tensor(4.)\n",
      "tensor(5.)\n",
      "tensor(0.)\n"
     ]
    }
   ],
   "source": [
    "a = torch.tensor([[1.,2.]], requires_grad=True) # 把requires_grad设为True, 开始跟踪基于它的所有运算\n",
    "b = torch.tensor([[3.],[4.]])\n",
    "c = torch.tensor(5., requires_grad=True)\n",
    "y = a @ b + c\n",
    "y.backward() #自动计算梯度\n",
    "print(a.grad, c.grad) #输出叶子节点a和c的梯度\n",
    "\n",
    "# 可支持多种运算求梯度，如torch.mean(),torch.sum()等\n",
    "a = torch.ones(20, requires_grad=True)\n",
    "z = torch.sum(torch.sigmoid(a))\n",
    "z.backward()\n",
    "print(a.grad)\n",
    "\n",
    "# 多次求梯度时梯度会累加，可使用tensor.grad.zero_()进行手动清零\n",
    "x = torch.tensor(2., requires_grad=True)\n",
    "y = x ** 2\n",
    "y.backward()\n",
    "print(x.grad)\n",
    "z = x + 3\n",
    "z.backward()\n",
    "print(x.grad)\n",
    "x.grad.zero_()\n",
    "print(x.grad)"
   ]
  },
  {
   "cell_type": "markdown",
   "id": "96d22808",
   "metadata": {},
   "source": [
    "3. 神经网络（官方教程中的例子）"
   ]
  },
  {
   "cell_type": "code",
   "execution_count": 7,
   "id": "207b6433",
   "metadata": {
    "scrolled": true
   },
   "outputs": [
    {
     "name": "stdout",
     "output_type": "stream",
     "text": [
      "Net(\n",
      "  (conv1): Conv2d(1, 6, kernel_size=(5, 5), stride=(1, 1))\n",
      "  (conv2): Conv2d(6, 16, kernel_size=(5, 5), stride=(1, 1))\n",
      "  (fc1): Linear(in_features=400, out_features=120, bias=True)\n",
      "  (fc2): Linear(in_features=120, out_features=84, bias=True)\n",
      "  (fc3): Linear(in_features=84, out_features=10, bias=True)\n",
      ")\n"
     ]
    }
   ],
   "source": [
    "import torch\n",
    "import torch.nn as nn\n",
    "import torch.nn.functional as F\n",
    "\n",
    "# 继承自nn.Module\n",
    "class Net(nn.Module):\n",
    "\n",
    "    def __init__(self):\n",
    "        super(Net, self).__init__()\n",
    "        # 卷积层\n",
    "        # 1 input image channel, 6 output channels, 5x5 square convolution\n",
    "        # kernel\n",
    "        self.conv1 = nn.Conv2d(1, 6, 5)\n",
    "        self.conv2 = nn.Conv2d(6, 16, 5)\n",
    "        # an affine operation: y = Wx + b\n",
    "        # nn.Linear(in_features, out_features, bias=True, device=None, dtype=None)\n",
    "        # 其中in_features表示有多少个输入，out_features表示该层有多少个神经元\n",
    "        self.fc1 = nn.Linear(16 * 5 * 5, 120)  # 5*5 from image dimension\n",
    "        self.fc2 = nn.Linear(120, 84)\n",
    "        self.fc3 = nn.Linear(84, 10)\n",
    "\n",
    "    def forward(self, x):\n",
    "        # Max pooling over a (2, 2) window\n",
    "        x = F.max_pool2d(F.relu(self.conv1(x)), (2, 2))\n",
    "        # If the size is a square, you can specify with a single number\n",
    "        x = F.max_pool2d(F.relu(self.conv2(x)), 2)\n",
    "        x = torch.flatten(x, 1) # flatten all dimensions except the batch dimension\n",
    "        x = F.relu(self.fc1(x))\n",
    "        x = F.relu(self.fc2(x))\n",
    "        x = self.fc3(x)\n",
    "        return x\n",
    "\n",
    "\n",
    "net = Net()\n",
    "print(net)"
   ]
  },
  {
   "cell_type": "code",
   "execution_count": 8,
   "id": "6c2a943f",
   "metadata": {},
   "outputs": [
    {
     "name": "stdout",
     "output_type": "stream",
     "text": [
      "10\n",
      "torch.Size([6, 1, 5, 5])\n"
     ]
    }
   ],
   "source": [
    "# 该神经网络中可学习的参数可以通过net.parameters()访问\n",
    "params = list(net.parameters())\n",
    "print(len(params))\n",
    "print(params[0].size())  # conv1's .weight"
   ]
  },
  {
   "cell_type": "code",
   "execution_count": 9,
   "id": "b733263e",
   "metadata": {},
   "outputs": [
    {
     "name": "stdout",
     "output_type": "stream",
     "text": [
      "tensor([[-0.0483,  0.0103, -0.0453,  0.0303,  0.0582, -0.0657,  0.0174,  0.0330,\n",
      "         -0.0856, -0.0084]], grad_fn=<AddmmBackward0>)\n"
     ]
    }
   ],
   "source": [
    "# 随机生成一个输入送入net中，除了第0维是样本个数外，其余维度要与forward()参数中x的维度对应上\n",
    "input = torch.randn(1, 1, 32, 32) # 1个样本，该样本是有1个通道的32×32的图像\n",
    "out = net(input) # 进行一次forward()前向传播\n",
    "print(out)"
   ]
  },
  {
   "cell_type": "code",
   "execution_count": 10,
   "id": "168659b3",
   "metadata": {},
   "outputs": [],
   "source": [
    "net.zero_grad() # 手动清零神经网络中参数的梯度\n",
    "out.backward(torch.randn(1, 10)) # 用随机梯度进行一次backward()后向传播来计算梯度"
   ]
  },
  {
   "cell_type": "code",
   "execution_count": 11,
   "id": "af35f14f",
   "metadata": {},
   "outputs": [
    {
     "name": "stdout",
     "output_type": "stream",
     "text": [
      "tensor(1.0651, grad_fn=<MseLossBackward0>)\n"
     ]
    }
   ],
   "source": [
    "output = net(input)\n",
    "target = torch.randn(10)  # a dummy target, for example\n",
    "target = target.view(1, -1)  # make it the same shape as output\n",
    "# nn模块提供了许多种类的损失函数，如nn.CrossEntropyLoss()、nn.MSELoss()等等\n",
    "criterion = nn.MSELoss()\n",
    "\n",
    "loss = criterion(output, target)\n",
    "\n",
    "print(loss)"
   ]
  },
  {
   "cell_type": "markdown",
   "id": "1428f7ce",
   "metadata": {},
   "source": [
    "计算图如下：\n",
    "input -> conv2d -> relu -> maxpool2d -> conv2d -> relu -> maxpool2d\n",
    "      -> flatten -> linear -> relu -> linear -> relu -> linear\n",
    "      -> MSELoss\n",
    "      -> loss"
   ]
  },
  {
   "cell_type": "code",
   "execution_count": 12,
   "id": "e9ada5be",
   "metadata": {},
   "outputs": [
    {
     "name": "stdout",
     "output_type": "stream",
     "text": [
      "<MseLossBackward0 object at 0x0000020F212DB7F0>\n",
      "<AddmmBackward0 object at 0x0000020F212DBBB0>\n",
      "<AccumulateGrad object at 0x0000020F212DB7F0>\n"
     ]
    }
   ],
   "source": [
    "# 查看计算图中的函数\n",
    "print(loss.grad_fn)  # MSELoss\n",
    "print(loss.grad_fn.next_functions[0][0])  # Linear\n",
    "print(loss.grad_fn.next_functions[0][0].next_functions[0][0])  # ReLU"
   ]
  },
  {
   "cell_type": "code",
   "execution_count": 13,
   "id": "854ee4d1",
   "metadata": {},
   "outputs": [
    {
     "name": "stdout",
     "output_type": "stream",
     "text": [
      "conv1.bias.grad before backward\n",
      "tensor([0., 0., 0., 0., 0., 0.])\n",
      "conv1.bias.grad after backward\n",
      "tensor([0.0022, 0.0145, 0.0016, 0.0012, 0.0140, 0.0069])\n"
     ]
    }
   ],
   "source": [
    "net.zero_grad()     # zeroes the gradient buffers of all parameters\n",
    "\n",
    "print('conv1.bias.grad before backward')\n",
    "print(net.conv1.bias.grad)\n",
    "\n",
    "# 进行一次后向传播\n",
    "loss.backward()\n",
    "\n",
    "print('conv1.bias.grad after backward')\n",
    "print(net.conv1.bias.grad)"
   ]
  },
  {
   "cell_type": "code",
   "execution_count": 14,
   "id": "d7187507",
   "metadata": {},
   "outputs": [],
   "source": [
    "# 用梯度下降法(手动)更新net中的参数\n",
    "learning_rate = 0.01\n",
    "for f in net.parameters():\n",
    "    f.data.sub_(f.grad.data * learning_rate)"
   ]
  },
  {
   "cell_type": "code",
   "execution_count": 15,
   "id": "06d237aa",
   "metadata": {},
   "outputs": [],
   "source": [
    "# 用PyTorch的优化器来更新net中的参数\n",
    "import torch.optim as optim\n",
    "\n",
    "# create your optimizer\n",
    "optimizer = optim.SGD(net.parameters(), lr=0.01)\n",
    "\n",
    "# 在每次循环中应该做的事:\n",
    "optimizer.zero_grad()   # 把梯度清零\n",
    "output = net(input) # 进行一次前向传播\n",
    "loss = criterion(output, target) # 计算误差\n",
    "loss.backward() # 后向传播\n",
    "optimizer.step()    # 参数更新"
   ]
  },
  {
   "cell_type": "markdown",
   "id": "50be2d1f",
   "metadata": {},
   "source": [
    "**<font color = blue size=4>第二部分:实验内容</font>**"
   ]
  },
  {
   "cell_type": "markdown",
   "id": "ba5214e5",
   "metadata": {},
   "source": [
    "[Red Wine Quality](https://www.kaggle.com/datasets/uciml/red-wine-quality-cortez-et-al-2009)是一个关于红酒品质的数据集，总共有1599个样本，每个样本包含11个(都是连续的)特征以及1个标签，每个标签的取值是连续的。本次实验已经按照8：2的比例划分成了训练数据集'wine_train.csv'以及测试数据集'wine_test.csv'，且每个数据集都已经做了归一化处理。"
   ]
  },
  {
   "cell_type": "markdown",
   "id": "d4d9ccac",
   "metadata": {},
   "source": [
    "<span style=\"color:yellow\">1) 读入训练数据集'wine_train.csv'与测试数据集'wine_test.csv'。</span>"
   ]
  },
  {
   "cell_type": "code",
   "execution_count": 16,
   "id": "c759660f",
   "metadata": {},
   "outputs": [
    {
     "name": "stdout",
     "output_type": "stream",
     "text": [
      "1279\n"
     ]
    }
   ],
   "source": [
    "# -- Your code here --\n",
    "#读入数据集\n",
    "from torch.autograd import Variable\n",
    "import time\n",
    "import matplotlib\n",
    "wine_trainframe=pd.read_csv(\"wine_train.csv\")\n",
    "wine_testframe=pd.read_csv(\"wine_test.csv\")\n",
    "\n",
    "wine_train=torch.from_numpy(np.array(wine_trainframe))\n",
    "wine_test=torch.from_numpy(np.array(wine_testframe))\n",
    "#print(wine_train[0:10])\n",
    "feature=wine_train[0:10, :-1]\n",
    "print(wine_train.shape[0])"
   ]
  },
  {
   "cell_type": "markdown",
   "id": "d77619fd",
   "metadata": {},
   "source": [
    "<span style=\"color:yellow\">2) 利用线性层和激活函数搭建一个神经网络，要求输入和输出维度与数据集维度一致，而神经网络深度、隐藏层大小、激活函数种类等超参数自行调整。</span>"
   ]
  },
  {
   "cell_type": "code",
   "execution_count": 17,
   "id": "26359bae",
   "metadata": {},
   "outputs": [],
   "source": [
    "# -- Your code here --\n",
    "# 继承自nn.Module\n",
    "#定义自己的网络\n",
    "class myNet(nn.Module):\n",
    "    def __init__(self):\n",
    "        super(myNet, self).__init__()\n",
    "        '''\n",
    "        卷积层\n",
    "        1 input image channel, 6 output channels, 5x5 square convolution\n",
    "        kernel\n",
    "        self.conv1 = nn.Conv2d(1, 6, 5)\n",
    "        self.conv2 = nn.Conv2d(6, 16, 5)\n",
    "        an affine operation: y = Wx + b\n",
    "        nn.Linear(in_features, out_features, bias=True, device=None, dtype=None)\n",
    "        其中in_features表示有多少个输入，out_features表示该层有多少个神经元\n",
    "        '''\n",
    "        #采取四个线性连接层，且用relu函数作为激活函数\n",
    "        self.fc1 = nn.Linear(11, 100)  \n",
    "        self.fc2 = nn.Linear(100, 84)\n",
    "        self.fc3 = nn.Linear(84, 20)\n",
    "        self.fc4 = nn.Linear(20 ,1)\n",
    "\n",
    "    def forward(self, x):\n",
    "        '''\n",
    "        # Max pooling over a (2, 2) window\n",
    "        #x = F.max_pool2d(F.relu(self.conv1(x)), (2, 2))\n",
    "        # If the size is a square, you can specify with a single number\n",
    "        #x = F.max_pool2d(F.relu(self.conv2(x)), 2)\n",
    "        #x = torch.flatten(x, 1) # flatten all dimensions except the batch dimension\n",
    "        '''\n",
    "        x = F.relu(self.fc1(x))\n",
    "        x = F.relu(self.fc2(x))\n",
    "        x =F.relu(self.fc3(x))\n",
    "        x = self.fc4(x)\n",
    "        return x\n",
    "\n",
    "         \n",
    "def mybploss(out, quality):\n",
    "    return 0.5*(pow((out-quality),2))"
   ]
  },
  {
   "cell_type": "markdown",
   "id": "9b706eea",
   "metadata": {},
   "source": [
    "<span style=\"color:yellow\">3) 用梯度下降法进行模型参数更新，记下每轮迭代中的训练损失和测试损失。</span>"
   ]
  },
  {
   "cell_type": "code",
   "execution_count": 18,
   "id": "cad2f094",
   "metadata": {},
   "outputs": [
    {
     "name": "stdout",
     "output_type": "stream",
     "text": [
      "myNet(\n",
      "  (fc1): Linear(in_features=11, out_features=100, bias=True)\n",
      "  (fc2): Linear(in_features=100, out_features=84, bias=True)\n",
      "  (fc3): Linear(in_features=84, out_features=20, bias=True)\n",
      "  (fc4): Linear(in_features=20, out_features=1, bias=True)\n",
      ")\n",
      "Total: 11405 Trainable: 11405\n",
      "***** One epoch has finished ******\n",
      "epoch: 0, Train Loss: 0.017035,  Eval Loss: 0.013167,\n",
      "***** One epoch has finished ******\n",
      "epoch: 1, Train Loss: 0.012157,  Eval Loss: 0.012592,\n",
      "***** One epoch has finished ******\n",
      "epoch: 2, Train Loss: 0.011643,  Eval Loss: 0.011977,\n",
      "***** One epoch has finished ******\n",
      "epoch: 3, Train Loss: 0.011099,  Eval Loss: 0.011346,\n",
      "***** One epoch has finished ******\n",
      "epoch: 4, Train Loss: 0.010545,  Eval Loss: 0.010708,\n",
      "***** One epoch has finished ******\n",
      "epoch: 5, Train Loss: 0.010020,  Eval Loss: 0.010131,\n",
      "***** One epoch has finished ******\n",
      "epoch: 6, Train Loss: 0.009587,  Eval Loss: 0.009683,\n",
      "***** One epoch has finished ******\n",
      "epoch: 7, Train Loss: 0.009279,  Eval Loss: 0.009374,\n",
      "***** One epoch has finished ******\n",
      "epoch: 8, Train Loss: 0.009078,  Eval Loss: 0.009177,\n",
      "***** One epoch has finished ******\n",
      "epoch: 9, Train Loss: 0.008949,  Eval Loss: 0.009056,\n",
      "***** One epoch has finished ******\n",
      "epoch: 10, Train Loss: 0.008860,  Eval Loss: 0.008980,\n",
      "***** One epoch has finished ******\n",
      "epoch: 11, Train Loss: 0.008793,  Eval Loss: 0.008928,\n",
      "***** One epoch has finished ******\n",
      "epoch: 12, Train Loss: 0.008737,  Eval Loss: 0.008897,\n",
      "***** One epoch has finished ******\n",
      "epoch: 13, Train Loss: 0.008687,  Eval Loss: 0.008872,\n",
      "***** One epoch has finished ******\n",
      "epoch: 14, Train Loss: 0.008643,  Eval Loss: 0.008855,\n",
      "***** One epoch has finished ******\n",
      "epoch: 15, Train Loss: 0.008605,  Eval Loss: 0.008835,\n",
      "***** One epoch has finished ******\n",
      "epoch: 16, Train Loss: 0.008570,  Eval Loss: 0.008815,\n",
      "***** One epoch has finished ******\n",
      "epoch: 17, Train Loss: 0.008539,  Eval Loss: 0.008800,\n",
      "***** One epoch has finished ******\n",
      "epoch: 18, Train Loss: 0.008510,  Eval Loss: 0.008790,\n",
      "***** One epoch has finished ******\n",
      "epoch: 19, Train Loss: 0.008483,  Eval Loss: 0.008782,\n",
      "***** One epoch has finished ******\n",
      "epoch: 20, Train Loss: 0.008458,  Eval Loss: 0.008774,\n",
      "***** One epoch has finished ******\n",
      "epoch: 21, Train Loss: 0.008435,  Eval Loss: 0.008766,\n",
      "***** One epoch has finished ******\n",
      "epoch: 22, Train Loss: 0.008414,  Eval Loss: 0.008759,\n",
      "***** One epoch has finished ******\n",
      "epoch: 23, Train Loss: 0.008393,  Eval Loss: 0.008753,\n",
      "***** One epoch has finished ******\n",
      "epoch: 24, Train Loss: 0.008374,  Eval Loss: 0.008748,\n",
      "***** One epoch has finished ******\n",
      "epoch: 25, Train Loss: 0.008356,  Eval Loss: 0.008745,\n",
      "***** One epoch has finished ******\n",
      "epoch: 26, Train Loss: 0.008339,  Eval Loss: 0.008742,\n",
      "***** One epoch has finished ******\n",
      "epoch: 27, Train Loss: 0.008323,  Eval Loss: 0.008743,\n",
      "***** One epoch has finished ******\n",
      "epoch: 28, Train Loss: 0.008312,  Eval Loss: 0.008741,\n",
      "***** One epoch has finished ******\n",
      "epoch: 29, Train Loss: 0.008298,  Eval Loss: 0.008735,\n",
      "The code run16.17s\n",
      "the trainlosses is :\n",
      " [0.017034782186303294, 0.012156644627806053, 0.011642744260767043, 0.011098719971141114, 0.010545021051318795, 0.010019956871990457, 0.009586936624959026, 0.009278510465552335, 0.009078094284001368, 0.008948578529964344, 0.008860182291463348, 0.008792700948729392, 0.008737333498148144, 0.008687467070355127, 0.008643335848809792, 0.008605420253770963, 0.008570390833208066, 0.008538890388495984, 0.00850985771271051, 0.008483412051823356, 0.008458051332212715, 0.008435027098467406, 0.008413838260687567, 0.008393373078949443, 0.00837440635129928, 0.008356440453708815, 0.008339316756804382, 0.008322924924176653, 0.008311542672370036, 0.008298473682680626]\n",
      "the eval losses is :\n",
      " [0.013166855472937772, 0.012591817276553813, 0.011977334584214048, 0.011345754716879649, 0.01070819751975113, 0.010130809498269501, 0.009682898581695883, 0.009373653526956332, 0.009177464436854299, 0.009055940873202394, 0.00897995240357296, 0.008928269251522009, 0.008897076086456313, 0.008872249032996271, 0.008854674257760646, 0.008834803514454571, 0.008815101842581347, 0.008799623103777401, 0.008789783338942116, 0.008781851279404734, 0.008774386973419802, 0.008766293229851828, 0.008758959059920452, 0.008752523753381074, 0.008747672106958558, 0.008745055807224627, 0.008741766588571299, 0.008743233824558222, 0.008740827740372176, 0.008735099479764918]\n"
     ]
    }
   ],
   "source": [
    "#网络参数数量\n",
    "def get_parameter_number(net):\n",
    "    total_num = sum(p.numel() for p in net.parameters())\n",
    "    trainable_num = sum(p.numel() for p in net.parameters() if p.requires_grad)\n",
    "    return  total_num,  trainable_num\n",
    "#选择示例网络\n",
    "net = myNet()\n",
    "net = net.double()      #从float到double\n",
    "print(net)\n",
    "#use_gpu = torch.cuda.is_available()    使用gpu训练\n",
    "total_num,  trainable_num=get_parameter_number(net)\n",
    "print('Total:', total_num, 'Trainable:', trainable_num)   #打印出总的变量数和需要求导的变量\n",
    "#设置损失函数\n",
    "#criterion = mybploss()\n",
    "#设置网络优化方式\n",
    "learingrate = 0.01\n",
    "optimizer = torch.optim.SGD(net.parameters(), lr=learingrate) #学习率0.1 0.01\n",
    "'''for param in net.parameters():\n",
    "    param.requires_grad = False'''\n",
    "#optimizer = optim.SGD(filter(lambda p: p.requires_grad, net.parameters()), lr=learingrate, momentum=0.9, weight_decay=5e-4)\n",
    "#if(use_gpu):\n",
    "    #net = net.cuda()\n",
    "    #criterion = criterion.cuda()\n",
    "\n",
    "#acces = []\n",
    "#设置训练和预测损失值\n",
    "eval_losses = []\n",
    "#eval_acces = []\n",
    "losses = []\n",
    "trainlosses=[]\n",
    "start = time.time()\n",
    "epoch=30\n",
    "#开始训练 \n",
    "for e in range(epoch):\n",
    "    train_loss = 0\n",
    "    net.train()\n",
    "    for j in range(wine_train.shape[0]):\n",
    "        #if (use_gpu):\n",
    "            #feature, quality = feature.cuda(),quality.cuda()\n",
    "        #im = Variable(im)\n",
    "        #label = Variable(label)\n",
    "        # 前向传播\n",
    "        feature=wine_train[j, : -1]\n",
    "        quality=wine_train[j, -1]\n",
    "        out = net(feature)\n",
    "        loss = mybploss(out, quality)\n",
    "        # 反向传播\n",
    "        optimizer.zero_grad()   #网络优化随机梯度下降！\n",
    "        loss.backward()\n",
    "        optimizer.step()\n",
    "        '''for p in net.parameters():\n",
    "            if (p.requires_grad):\n",
    "                p=p-learingrate*p.grad.data\n",
    "                p.grad.data.zero_()     手动梯度下降'''  \n",
    "        # 记录误差\n",
    "        train_loss += loss.item()     \n",
    "    losses.append(train_loss /wine_train.shape[0])\n",
    "    #acces.append(train_acc / len(train_data))\n",
    "    #print(trainlosses)\n",
    "    #将网络切换为预测模式！\n",
    "    net.eval()\n",
    "    eval_loss=0\n",
    "    for k in range(wine_test.shape[0]):\n",
    "        feature=wine_train[k, : -1]\n",
    "        quality=wine_train[k, -1]\n",
    "        out = net(feature)\n",
    "        loss = mybploss(out, quality)\n",
    "        eval_loss+=loss.item()\n",
    "    eval_losses.append(eval_loss/wine_test.shape[0])\n",
    "    #完成一次训练和预测（epoch）\n",
    "    print('***** One epoch has finished ******')\n",
    "    print('epoch: {}, Train Loss: {:.6f},  Eval Loss: {:.6f},'.format(e, train_loss / wine_train.shape[0], eval_loss /wine_test.shape[0]))\n",
    "    trainlosses.append(train_loss / wine_train.shape[0])    #注意每个循环的变量要不一样！！\n",
    "end = time.time()\n",
    "print('The code run{:.2f}s'.format(end - start))\n",
    "#输出对应的loss值\n",
    "print(\"the trainlosses is :\\n\", trainlosses)\n",
    "print(\"the eval losses is :\\n\", eval_losses)\n"
   ]
  },
  {
   "cell_type": "markdown",
   "id": "d4ad5bf9",
   "metadata": {},
   "source": []
  },
  {
   "cell_type": "markdown",
   "id": "ff5ff45e",
   "metadata": {},
   "source": [
    "<span style=\"color:yellow\">4) 画出训练损失和测试损失关于迭代轮数的折线图。</span>"
   ]
  },
  {
   "cell_type": "code",
   "execution_count": 19,
   "id": "3ba3071f",
   "metadata": {},
   "outputs": [
    {
     "data": {
      "text/plain": [
       "Text(0.5, 1.0, 'loss vs eval epoch')"
      ]
     },
     "execution_count": 19,
     "metadata": {},
     "output_type": "execute_result"
    },
    {
     "data": {
      "image/png": "[encoded data removed]",
      "text/plain": [
       "<Figure size 800x400 with 1 Axes>"
      ]
     },
     "metadata": {},
     "output_type": "display_data"
    },
    {
     "data": {
      "image/png": "[encoded data removed]",
      "text/plain": [
       "<Figure size 800x400 with 1 Axes>"
      ]
     },
     "metadata": {},
     "output_type": "display_data"
    }
   ],
   "source": [
    "# -- Your code here --\n",
    "fig1,ax=plt.subplots(figsize=(8,4))\n",
    "ax.plot(np.arange(epoch), trainlosses, 'r')\n",
    "ax.set_xlabel('epoch')\n",
    "ax.set_ylabel('trainloss')\n",
    "ax.set_title('loss vs training epoch')\n",
    "\n",
    "fig2, bx=plt.subplots(figsize=(8,4))\n",
    "bx.plot(np.arange(epoch), eval_losses, 'b')\n",
    "bx.set_xlabel('epoch')\n",
    "bx.set_ylabel('eval_loss')\n",
    "bx.set_title('loss vs eval epoch')"
   ]
  }
 ],
 "metadata": {
  "kernelspec": {
   "display_name": "Python 3.9.13 ('VoiceRecognition')",
   "language": "python",
   "name": "python3"
  },
  "language_info": {
   "codemirror_mode": {
    "name": "ipython",
    "version": 3
   },
   "file_extension": ".py",
   "mimetype": "text/x-python",
   "name": "python",
   "nbconvert_exporter": "python",
   "pygments_lexer": "ipython3",
   "version": "3.9.13"
  },
  "vscode": {
   "interpreter": {
    "hash": "b45b532eb9745f84a7c46c4d197897bf926f213f9d63e18b78fe8b0913e9add4"
   }
  }
 },
 "nbformat": 4,
 "nbformat_minor": 5
}
