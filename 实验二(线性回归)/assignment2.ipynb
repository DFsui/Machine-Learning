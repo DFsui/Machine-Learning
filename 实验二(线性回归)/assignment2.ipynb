{
 "cells": [
  {
   "cell_type": "markdown",
   "id": "498d70fa",
   "metadata": {},
   "source": [
    "# 线性回归（一）"
   ]
  },
  {
   "cell_type": "code",
   "execution_count": 1,
   "id": "226badd7",
   "metadata": {},
   "outputs": [],
   "source": [
    "import pandas as pd\n",
    "import numpy as np\n",
    "import matplotlib.pyplot as plt"
   ]
  },
  {
   "cell_type": "markdown",
   "id": "70d2906a",
   "metadata": {},
   "source": [
    "<span style=\"color:purple\">1) 使用pandas库的read_csv()函数(可以参考[pandas的官方文档](https://pandas.pydata.org/docs/reference/api/pandas.read_csv.html))将训练数据集'train.csv'载入到Dataframe对象中。</span>"
   ]
  },
  {
   "cell_type": "code",
   "execution_count": 2,
   "id": "f59640f4",
   "metadata": {},
   "outputs": [
    {
     "data": {
      "text/html": [
       "<div>\n",
       "<style scoped>\n",
       "    .dataframe tbody tr th:only-of-type {\n",
       "        vertical-align: middle;\n",
       "    }\n",
       "\n",
       "    .dataframe tbody tr th {\n",
       "        vertical-align: top;\n",
       "    }\n",
       "\n",
       "    .dataframe thead th {\n",
       "        text-align: right;\n",
       "    }\n",
       "</style>\n",
       "<table border=\"1\" class=\"dataframe\">\n",
       "  <thead>\n",
       "    <tr style=\"text-align: right;\">\n",
       "      <th></th>\n",
       "      <th>x</th>\n",
       "      <th>y</th>\n",
       "    </tr>\n",
       "  </thead>\n",
       "  <tbody>\n",
       "    <tr>\n",
       "      <th>0</th>\n",
       "      <td>0.360705</td>\n",
       "      <td>5.555215</td>\n",
       "    </tr>\n",
       "    <tr>\n",
       "      <th>1</th>\n",
       "      <td>1.544153</td>\n",
       "      <td>9.890948</td>\n",
       "    </tr>\n",
       "    <tr>\n",
       "      <th>2</th>\n",
       "      <td>2.767041</td>\n",
       "      <td>13.911097</td>\n",
       "    </tr>\n",
       "    <tr>\n",
       "      <th>3</th>\n",
       "      <td>0.816535</td>\n",
       "      <td>7.835054</td>\n",
       "    </tr>\n",
       "    <tr>\n",
       "      <th>4</th>\n",
       "      <td>0.272320</td>\n",
       "      <td>5.924909</td>\n",
       "    </tr>\n",
       "    <tr>\n",
       "      <th>...</th>\n",
       "      <td>...</td>\n",
       "      <td>...</td>\n",
       "    </tr>\n",
       "    <tr>\n",
       "      <th>155</th>\n",
       "      <td>1.815708</td>\n",
       "      <td>10.233754</td>\n",
       "    </tr>\n",
       "    <tr>\n",
       "      <th>156</th>\n",
       "      <td>0.759685</td>\n",
       "      <td>8.002576</td>\n",
       "    </tr>\n",
       "    <tr>\n",
       "      <th>157</th>\n",
       "      <td>0.360873</td>\n",
       "      <td>5.799197</td>\n",
       "    </tr>\n",
       "    <tr>\n",
       "      <th>158</th>\n",
       "      <td>1.501412</td>\n",
       "      <td>10.246296</td>\n",
       "    </tr>\n",
       "    <tr>\n",
       "      <th>159</th>\n",
       "      <td>1.452718</td>\n",
       "      <td>9.594200</td>\n",
       "    </tr>\n",
       "  </tbody>\n",
       "</table>\n",
       "<p>160 rows × 2 columns</p>\n",
       "</div>"
      ],
      "text/plain": [
       "            x          y\n",
       "0    0.360705   5.555215\n",
       "1    1.544153   9.890948\n",
       "2    2.767041  13.911097\n",
       "3    0.816535   7.835054\n",
       "4    0.272320   5.924909\n",
       "..        ...        ...\n",
       "155  1.815708  10.233754\n",
       "156  0.759685   8.002576\n",
       "157  0.360873   5.799197\n",
       "158  1.501412  10.246296\n",
       "159  1.452718   9.594200\n",
       "\n",
       "[160 rows x 2 columns]"
      ]
     },
     "execution_count": 2,
     "metadata": {},
     "output_type": "execute_result"
    }
   ],
   "source": [
    "# Your code here\n",
    "train_frame = pd.read_csv('train.csv')\n",
    "test_frame = pd.read_csv('test.csv')\n",
    "train = np.array(train_frame)\n",
    "test = np.array(test_frame)\n",
    "\n",
    "train_frame\n"
   ]
  },
  {
   "cell_type": "markdown",
   "id": "1bccb84d",
   "metadata": {},
   "source": [
    "<span style=\"color:purple\">2) 假设模型为一元线性回归模型$\\hat{y}=wx+b$, 损失函数为$l(w,b)=\\frac{1}{2}\\sum_{i=1}^m(\\hat{y}^{(i)}-y^{(i)})^2$, 其中$\\hat{y}^{(i)}$表示第$i$个样本的预测值，$y^{(i)}$表示第$i$个样本的实际标签值, $m$为训练集中样本的个数。求出使得损失函数最小化的参数$w$和$b$。</span>"
   ]
  },
  {
   "cell_type": "markdown",
   "id": "e011976d",
   "metadata": {},
   "source": [
    "方法① \n",
    "\n",
    "将$l(w,b)$对$w$和$b$求导，得到\n",
    "$$\n",
    "\\frac{\\partial l(w,b)}{\\partial w}=w\\sum_{i=1}^m x_i^2 -\\sum_{i=1}^m (y_i-b)x_i,\n",
    "$$\n",
    "$$\n",
    "\\frac{\\partial l(w,b)}{\\partial b}=mb -\\sum_{i=1}^m (y_i-wx_i),\n",
    "$$\n",
    "令上述两式为零即可得到$w$和$b$的解析解：\n",
    "$$\n",
    "w=\\frac{\\sum_{i=1}^m y_i (x_i-\\bar{x})}{\\sum_{i=1}^m x_i^2-\\frac{1}{m}(\\sum_{i=1}^m x_i)^2},\n",
    "$$\n",
    "$$\n",
    "b=\\frac{1}{m}\\sum_{i=1}^m(y_i-wx_i),\n",
    "$$\n",
    "其中$\\bar{x}=\\frac{1}{m}\\sum_{i=1}^m x_i$为$x$的均值。\n",
    "\n"
   ]
  },
  {
   "cell_type": "code",
   "execution_count": 3,
   "id": "8ec521b2",
   "metadata": {},
   "outputs": [
    {
     "name": "stdout",
     "output_type": "stream",
     "text": [
      "[[3.04147887]] 4.906073659228104\n"
     ]
    }
   ],
   "source": [
    "# Your code here\n",
    "m=160\n",
    "x_bar=np.sum(train[:, 0])/m\n",
    "x=train[:, 0:1]#切片第一列\n",
    "y=train[:, 1:2]#切片第二列\n",
    "w=(x-x_bar).T.dot(y)/(np.sum(x*x)-np.sum(train[:, 0])*np.sum(train[:, 0])/m)#分子为矩阵相乘，故用.dot, 分子为数组相乘，所以要sum\n",
    "b=np.sum(y-w*x)/m\n",
    "print(w, b)\n"
   ]
  },
  {
   "cell_type": "markdown",
   "id": "1a04bc78",
   "metadata": {},
   "source": [
    "方法② 梯度下降法。(暂时不用实现)"
   ]
  },
  {
   "cell_type": "markdown",
   "id": "844f2a87",
   "metadata": {},
   "source": [
    "方法③ \n",
    "\n",
    "用矩阵表示，假设数据集有$m$个样本，特征有$n$维$。X=\\left[ \\begin{matrix} x_{11} & x_{12} & \\cdots & x_{1n} & 1 \\\\\n",
    "                         x_{21} & x_{22} & \\cdots & x_{2n} & 1 \\\\\n",
    "                         \\vdots & \\vdots &      & \\vdots & \\vdots \\\\\n",
    "                         x_{m1} & x_{m2} & \\cdots & x_{mn} & 1 \\end{matrix} \\right]$,\n",
    "        实际标签$Y=\\left[ \\begin{matrix} y_{1} \\\\\n",
    "                         y_{2} \\\\\n",
    "                         \\vdots \\\\\n",
    "                         y_{m}\\end{matrix} \\right]$,\n",
    "        参数$B=\\left[ \\begin{matrix} w_{1} \\\\\n",
    "                         w_{2} \\\\\n",
    "                         \\vdots \\\\\n",
    "                         w_{n} \\\\\n",
    "                         b\\end{matrix} \\right]$，则解析解为$B^*=(X^T X)^{-1}X^T Y$。推导过程可参考[这篇文章](https://zhuanlan.zhihu.com/p/74157986)。"
   ]
  },
  {
   "cell_type": "code",
   "execution_count": 4,
   "id": "c22d6266",
   "metadata": {},
   "outputs": [
    {
     "data": {
      "text/plain": [
       "array([[3.04147887],\n",
       "       [4.90607366]])"
      ]
     },
     "execution_count": 4,
     "metadata": {},
     "output_type": "execute_result"
    }
   ],
   "source": [
    "# Your code here\n",
    "X=train[:, 0:1]\n",
    "X=np.c_[X,np.ones((160, 1))]\n",
    "Y=train[:, 1:2]\n",
    "np.linalg.inv(X.T.dot(X)).dot(X.T).dot(Y)\n",
    "\n"
   ]
  },
  {
   "cell_type": "markdown",
   "id": "eb16c177",
   "metadata": {},
   "source": [
    "<span style=\"color:purple\">3) 使用求解出来的线性回归模型对测试数据集'test.csv'进行预测，输出可视化结果（比如用seaborn或者matplotlib等可视化库来画出测试数据的散点图以及训练好的模型函数图像）。</span>"
   ]
  },
  {
   "cell_type": "code",
   "execution_count": 5,
   "id": "b19a5413",
   "metadata": {},
   "outputs": [
    {
     "data": {
      "image/png": "[encoded data removed]",
      "text/plain": [
       "<Figure size 432x288 with 1 Axes>"
      ]
     },
     "metadata": {
      "needs_background": "light"
     },
     "output_type": "display_data"
    }
   ],
   "source": [
    "# Your code here\n",
    "pred = w[0, 0] * test[:, 0] + b\n",
    "plt.plot(test[:, 0], pred)\n",
    "plt.plot(test[:, 0], test[:, 1], '.')\n",
    "plt.show()\n",
    "\n",
    "\n"
   ]
  },
  {
   "cell_type": "markdown",
   "id": "f227579c",
   "metadata": {},
   "source": [
    "<span style=\"color:purple\">4) 在训练数据集'train2.csv'上求一个三元线性回归模型$\\hat{y}=w_1 x_1 + w_2 x_2 + w_3 x_3 + b$的使得损失函数$l(w_1,w_2,w_3,b)=\\frac{1}{2}\\sum_{i=1}^m(\\hat{y}^{(i)}-y^{(i)})^2$最小的参数$w_1,w_2,w_3$以及$b$。并在测试数据集'test2.csv'上进行预测，输出预测结果的均方误差$MSE(\\hat{y},y)=\\frac{1}{n}\\sum^n_{i=1}(y_i-\\hat{y}_i)^2$, $n$为测试集中样本个数。</span>"
   ]
  },
  {
   "cell_type": "markdown",
   "id": "2a1f6178",
   "metadata": {},
   "source": [
    "方法① 同2)中的方法③。"
   ]
  },
  {
   "cell_type": "code",
   "execution_count": 6,
   "id": "e79c1ce6",
   "metadata": {},
   "outputs": [
    {
     "data": {
      "text/plain": [
       "0.16537691128951923"
      ]
     },
     "execution_count": 6,
     "metadata": {},
     "output_type": "execute_result"
    }
   ],
   "source": [
    "# Your code here\n",
    "train_frame2 = pd.read_csv('train2.csv')\n",
    "test_frame2 = pd.read_csv('test2.csv')\n",
    "train2 = np.array(train_frame2)\n",
    "test2 = np.array(test_frame2)\n",
    "X=train2[:, 0:3]\n",
    "X=np.c_[X,np.ones((160, 1))]\n",
    "Y=train2[:, 3:4]\n",
    "w=np.linalg.inv(X.T.dot(X)).dot(X.T).dot(Y)\n",
    "\n",
    "\n",
    "\n",
    "x_pred = test2[:,0:3]\n",
    "x_pred = np.c_[x_pred, np.ones((40, 1))]\n",
    "y_pred = x_pred.dot(w)\n",
    "np.sum((y_pred-test2[:, 3:4])*(y_pred-test2[:, 3:4]))/40\n",
    "\n"
   ]
  },
  {
   "cell_type": "markdown",
   "id": "f4ea8a93",
   "metadata": {},
   "source": [
    "方法② 梯度下降法。(暂时不用实现)"
   ]
  },
  {
   "cell_type": "code",
   "execution_count": null,
   "id": "78111d75",
   "metadata": {},
   "outputs": [],
   "source": []
  },
  {
   "cell_type": "markdown",
   "id": "6ad8bd45",
   "metadata": {},
   "source": [
    "方法② 梯度下降法。\n",
    "手动实现梯度下降法(不使用机器学习框架，如PyTorch、TensorFlow等)来进行模型的训练。\n",
    "算法步骤如下：1.初始化模型参数$w$和$b$的值；\n",
    "2.在负梯度的方向上更新参数(批量梯度下降、小批量随机梯度下降或者随机梯度下降均可)，并不断迭代这一步骤，\n",
    "更新公式(以小批量随机梯度下降为例)可以写成：$$w\\gets w-\\frac{\\eta}{\\left|B\\right|}\\sum_{i\\in{B}}x^{(i)}(wx^{(i)}+b-y^{(i)}),$$ 和$$b\\gets b-\\frac{\\eta}{\\left|B\\right|}\\sum_{i\\in{B}}(wx^{(i)}+b-y^{(i)}),$$ 其中$\\eta$表示学习率,$B$表示每次迭代中随机抽样的小批量，$\\left|B\\right|$则表示$B$中的样本数量。\n",
    "3. 终止条件为迭代次数达到某一上限或者参数更新的幅度小于某个阈值。\n",
    "\n"
   ]
  },
  {
   "cell_type": "code",
   "execution_count": 7,
   "id": "bf00e52a",
   "metadata": {},
   "outputs": [],
   "source": [
    "# Your code here\n",
    "#读取数据集\n",
    "data = pd.read_csv('train.csv')\n",
    "test_frame = pd.read_csv('test.csv')\n",
    "test=np.array(test_frame)\n",
    "#data2= pd.read_csv('train2.csv')\n"
   ]
  },
  {
   "cell_type": "code",
   "execution_count": 8,
   "id": "afdc5618",
   "metadata": {},
   "outputs": [
    {
     "name": "stdout",
     "output_type": "stream",
     "text": [
      "(160, 2) (1, 2) (160, 1)\n",
      "[[9.89094799]]\n"
     ]
    }
   ],
   "source": [
    "#1，初始化\n",
    "data.insert(0, 'Ones', 1)#(loc,column,value)即在第一列中插入1\n",
    "cols=data.shape[1]#读取矩阵列数， =shape[-1]\n",
    "X=data.iloc[:, 0:cols-1]# iloc根据位置索引选取数据，先行后列,取前cols-1列作为输入向量,下标从0开始\n",
    "y=data.iloc[: ,cols-1:cols]\n",
    "#print(X.head)\n",
    "#print(y.head)\n",
    "X=np.matrix(X.values)   #注意matrix与array的区别，多元用array\n",
    "y=np.matrix(y.values)\n",
    "theta=np.matrix([0,0])    #初始化theta\n",
    "print(X.shape, theta.shape, y.shape)\n",
    "print(y[1])"
   ]
  },
  {
   "cell_type": "code",
   "execution_count": 9,
   "id": "9e4574d2",
   "metadata": {},
   "outputs": [],
   "source": [
    "#2，def function\n",
    "#注意：此处实现为matrix，多维的话注意改成array\n",
    "#损失函数\n",
    "def computeCost(X, y, theta):\n",
    "    inner =np.power(((X* theta.T)-y),2) #数组为对应元素运算，返回损失函数， len（x）为行数\n",
    "    return np.sum(inner)/(2*len(X))\n",
    "#批量梯度下降\n",
    "def gradientDescent(X,y, theta, alpha, epoch):  #epoch为训练次数\n",
    "    temp=np.matrix(np.zeros(theta.shape))#初始化一个临时矩阵\n",
    "    #parameters=int(theta.flatten().shape[1])#参数theta的数量\n",
    "     # flatten()即返回一个折叠成一维的数组。但是该函数只能适用于numpy对象，即array或者mat，普通的list列表是不行的\n",
    "    cost=np.zeros(epoch)#初始化一个ndarray，包含每次训练后的cost\n",
    "    #np.zeros 生成一个一维0矩阵\n",
    "    counterTheta=np.zeros((epoch,2)) #对应每次cost的theta\n",
    "    m=X.shape[0]#x的行数\n",
    "    for i in range(epoch):\n",
    "        temp = theta-(alpha/m)*(X*theta.T-y).T*X\n",
    "        theta=temp\n",
    "        counterTheta[i]=theta\n",
    "        cost[i]=computeCost(X,y, theta)#计算损失函数值\n",
    "    pass #空语句，占位，避免报错\n",
    "    return counterTheta, theta, cost\n",
    "#随机批量下降\n",
    "def StochastiGD(X, y, theta ,alpha, epoch):\n",
    "    temp=np.matrix(np.zeros(theta.shape))\n",
    "    cost=np.zeros(epoch)\n",
    "    counterTheta=np.zeros((epoch,2))\n",
    "    m=X.shape[0]\n",
    "    for i in range(epoch):\n",
    "        for j in range(m):\n",
    "            temp=theta-alpha*(X[j]*theta.T-y[j]).T*X[j]\n",
    "            theta=temp;\n",
    "            counterTheta[i]=theta\n",
    "            cost[i]=computeCost(X,y, theta)#计算损失函数值\n",
    "            pass\n",
    "        pass\n",
    "    return counterTheta, theta, cost"
   ]
  },
  {
   "cell_type": "code",
   "execution_count": 10,
   "id": "7f5d16b1",
   "metadata": {},
   "outputs": [],
   "source": [
    "#3,Run model\n",
    "alpha =0.01\n",
    "epoch=3800\n",
    "counterTheta, final_theta, cost=gradientDescent(X, y, theta, alpha, epoch)\n",
    "#对应每次的theta, 最后的theta，和每次的cost\n",
    "#computeCost(X, y, final_theta)#计算最后的cost\n",
    "counterTheta2,final_theta2, cost2=StochastiGD(X, y, theta ,alpha, epoch)\n"
   ]
  },
  {
   "cell_type": "code",
   "execution_count": 12,
   "id": "3fb7be7c",
   "metadata": {},
   "outputs": [
    {
     "data": {
      "image/png": "[encoded data removed]",
      "text/plain": [
       "<Figure size 432x288 with 1 Axes>"
      ]
     },
     "metadata": {
      "needs_background": "light"
     },
     "output_type": "display_data"
    },
    {
     "data": {
      "image/png": "[encoded data removed]",
      "text/plain": [
       "<Figure size 576x288 with 1 Axes>"
      ]
     },
     "metadata": {
      "needs_background": "light"
     },
     "output_type": "display_data"
    }
   ],
   "source": [
    "#4, plot\n",
    "x=np.linspace(data.x.min(), data.x.max()) #切割数据\n",
    "f=final_theta2[0,0]+(final_theta2[0,1]*x) #预测函数\n",
    "fig1, ax = plt.subplots(figsize=(6, 4)) #图像1\n",
    "ax.plot(x, f, 'r', label='Prediction')\n",
    "ax.scatter(data.x, data.y, label='Training Data')\n",
    "ax.legend(loc=2)#legend为图例\n",
    "ax.set_xlabel('x')#设置x轴\n",
    "ax.set_ylabel('y')\n",
    "ax.set_title('Predicted y vs. x')\n",
    "#画出损失值与迭代次数的图像，通用！\n",
    "fig2, ax = plt.subplots(figsize=(8, 4))\n",
    "ax.plot(np.arange(epoch), cost2, 'r') #arange() 主要是用于生成数组,括号内只有一个值代表终止值\n",
    "ax.set_xlabel('Iteration')\n",
    "ax.set_ylabel('Cost')\n",
    "ax.set_title('Error vs. Training Epoch')\n",
    "plt.show()"
   ]
  },
  {
   "cell_type": "code",
   "execution_count": null,
   "id": "9cff2ad6",
   "metadata": {},
   "outputs": [],
   "source": []
  }
 ],
 "metadata": {
  "kernelspec": {
   "display_name": "Python 3.9.12 ('base')",
   "language": "python",
   "name": "python3"
  },
  "language_info": {
   "codemirror_mode": {
    "name": "ipython",
    "version": 3
   },
   "file_extension": ".py",
   "mimetype": "text/x-python",
   "name": "python",
   "nbconvert_exporter": "python",
   "pygments_lexer": "ipython3",
   "version": "3.9.12"
  },
  "vscode": {
   "interpreter": {
    "hash": "f8b40d688a12481f01eadf7380c47edd8a49484a47dba3db091451640e880c68"
   }
  }
 },
 "nbformat": 4,
 "nbformat_minor": 5
}
