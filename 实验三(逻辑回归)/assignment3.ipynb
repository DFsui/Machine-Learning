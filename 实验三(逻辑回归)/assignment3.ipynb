{
 "cells": [
  {
   "cell_type": "markdown",
   "id": "498d70fa",
   "metadata": {},
   "source": [
    "**<font color = black size=6>实验三:逻辑回归</font>**"
   ]
  },
  {
   "cell_type": "markdown",
   "id": "fa5c5483",
   "metadata": {},
   "source": [
    "**<font color = blue size=4>第一部分:函数介绍</font>**"
   ]
  },
  {
   "cell_type": "markdown",
   "id": "869f21ce",
   "metadata": {},
   "source": [
    "<span style=\"color:purple\">由于机器学习所使用的数据集并不一定能够直接进行使用，如经常可能出现缺失值或者异常值（如异常0或者异常大的数据），又或者是数据类型不适合直接应用于模型训练等，所以数据预处理同样是机器学习过程中十分重要的一个部分。  \n",
    "    本次实验的数据预处理需要用的操作包括判断数据是否有缺失值以及异常值、缺失值替换操作、并将部分特征值类型转换为适合模型训练的类型。在进行逻辑回归实验之前，首先介绍下上述操作所用到的python语法。</span>"
   ]
  },
  {
   "cell_type": "markdown",
   "id": "3957a94a",
   "metadata": {},
   "source": [
    "<span style=\"color:purple\">1) 判断一列中是否有缺失值</span>"
   ]
  },
  {
   "cell_type": "code",
   "execution_count": 1,
   "id": "5472add3",
   "metadata": {},
   "outputs": [],
   "source": [
    "import pandas as pd\n",
    "import numpy as np\n",
    "import matplotlib.pyplot as plt\n",
    "import math\n",
    "import matplotlib as mpl\n",
    "# ignore warnings\n",
    "import warnings\n",
    "warnings.filterwarnings('ignore')"
   ]
  },
  {
   "cell_type": "code",
   "execution_count": 2,
   "id": "dc6837f2",
   "metadata": {},
   "outputs": [
    {
     "name": "stdout",
     "output_type": "stream",
     "text": [
      "height    2\n",
      "weight    2\n",
      "sex       0\n",
      "dtype: int64\n",
      "   height  weight     sex\n",
      "0   170.0    54.0    Male\n",
      "1   180.0     NaN    Male\n",
      "2   164.0    48.0  Female\n",
      "3     NaN    66.0    Male\n",
      "4   176.0     NaN  Female\n",
      "5   162.0    59.0    Male\n",
      "6   154.0    46.0    Male\n",
      "7   155.0    58.0  Female\n",
      "8   165.0     0.0  Female\n",
      "9     NaN    50.0  Female\n"
     ]
    }
   ],
   "source": [
    "#通过pandas将csv文件转换为dataframe格式后进行操作\n",
    "train1_frame = pd.read_csv('introduction.csv')\n",
    "#判断每一列是否有空值并返回每列空值的数量\n",
    "print(train1_frame.isnull().sum())\n",
    "print(train1_frame)"
   ]
  },
  {
   "cell_type": "markdown",
   "id": "75d469ff",
   "metadata": {},
   "source": [
    "<span style=\"color:purple\">2) 对每一列的缺失值和异常值进行替换操作</span>"
   ]
  },
  {
   "cell_type": "code",
   "execution_count": 3,
   "id": "891fed76",
   "metadata": {},
   "outputs": [
    {
     "name": "stdout",
     "output_type": "stream",
     "text": [
      "   height  weight     sex\n",
      "0   170.0    54.0    Male\n",
      "1   180.0     NaN    Male\n",
      "2   164.0    48.0  Female\n",
      "3     NaN    66.0    Male\n",
      "4   176.0     NaN  Female\n",
      "5   162.0    59.0    Male\n",
      "6   154.0    46.0    Male\n",
      "7   155.0    58.0  Female\n",
      "8   165.0     NaN  Female\n",
      "9     NaN    50.0  Female\n"
     ]
    }
   ],
   "source": [
    "#将0替换为空值，之后将空值替换为修正的值(例如：平均值、中数、众数等)\n",
    "#利用pandas中的replace函数将某一列的指定值替换为另一个值\n",
    "train1_frame[['height','weight']]=\\\n",
    "train1_frame[['height','weight']].replace(0,np.NaN)\n",
    "print(train1_frame)"
   ]
  },
  {
   "cell_type": "code",
   "execution_count": 4,
   "id": "1aec2a23",
   "metadata": {},
   "outputs": [
    {
     "name": "stdout",
     "output_type": "stream",
     "text": [
      "   height  weight     sex\n",
      "0   170.0    54.0    Male\n",
      "1   180.0     NaN    Male\n",
      "2   164.0    48.0  Female\n",
      "4   176.0     NaN  Female\n",
      "5   162.0    59.0    Male\n",
      "6   154.0    46.0    Male\n",
      "7   155.0    58.0  Female\n",
      "8   165.0     NaN  Female\n",
      "      sex  height\n",
      "0  Female   165.0\n",
      "1    Male   166.5\n",
      "   height  weight     sex\n",
      "0   170.0    54.0    Male\n",
      "1   180.0     NaN    Male\n",
      "2   164.0    48.0  Female\n",
      "3   166.5    66.0    Male\n",
      "4   176.0     NaN  Female\n",
      "5   162.0    59.0    Male\n",
      "6   154.0    46.0    Male\n",
      "7   155.0    58.0  Female\n",
      "8   165.0     NaN  Female\n",
      "9   165.0    50.0  Female\n"
     ]
    }
   ],
   "source": [
    "#先对height列进行分离，之后将temp按照性别进行分类，之后使用mean函数分别计算male和female非空数据的height的平均值\n",
    "temp=train1_frame[train1_frame['height'].notnull()]\n",
    "print(temp)\n",
    "temp=temp[['height','sex']].groupby(['sex'])[['height']].mean().reset_index()\n",
    "print(temp)\n",
    "#使用dataframe的loc函数将指定条件的height列和sex列筛选出来进行值替换操作\n",
    "train1_frame.loc[(train1_frame['sex']=='Male')&(train1_frame['height'].isnull()),'height']=temp['height'][1]\n",
    "train1_frame.loc[(train1_frame['sex']=='Female')&(train1_frame['height'].isnull()),'height']=temp['height'][0]\n",
    "print(train1_frame)"
   ]
  },
  {
   "cell_type": "code",
   "execution_count": 5,
   "id": "4f394062",
   "metadata": {},
   "outputs": [
    {
     "name": "stdout",
     "output_type": "stream",
     "text": [
      "   height  weight     sex\n",
      "0   170.0    54.0    Male\n",
      "1   180.0    50.0    Male\n",
      "2   164.0    48.0  Female\n",
      "3   166.5    66.0    Male\n",
      "4   176.0    56.5  Female\n",
      "5   162.0    59.0    Male\n",
      "6   154.0    46.0    Male\n",
      "7   155.0    58.0  Female\n",
      "8   165.0    56.5  Female\n",
      "9   165.0    50.0  Female\n"
     ]
    }
   ],
   "source": [
    "#再对weight列进行分离，之后同样将temp按照性别进行分类，之后使用median函数分别计算male和female非空数据的height的平均值\n",
    "temp=train1_frame[train1_frame['weight'].notnull()]\n",
    "temp=temp[['weight','sex']].groupby(['sex'])[['weight']].median().reset_index()\n",
    "\n",
    "#使用dataframe的loc函数将指定条件的height列和sex列筛选出来进行值替换操作\n",
    "train1_frame.loc[(train1_frame['sex']=='Male')&(train1_frame['weight'].isnull()),'weight']=temp['weight'][0]\n",
    "train1_frame.loc[(train1_frame['sex']=='Female')&(train1_frame['weight'].isnull()),'weight']=temp['weight'][1]\n",
    "print(train1_frame)"
   ]
  },
  {
   "cell_type": "markdown",
   "id": "d0ea36f6",
   "metadata": {},
   "source": [
    "<span style=\"color:purple\">3) 将结果值从字符串变成容易操作的整数类型</span>"
   ]
  },
  {
   "cell_type": "code",
   "execution_count": 6,
   "id": "8341000e",
   "metadata": {},
   "outputs": [
    {
     "name": "stdout",
     "output_type": "stream",
     "text": [
      "   height  weight     sex\n",
      "0   170.0    54.0    Male\n",
      "1   180.0    50.0    Male\n",
      "2   164.0    48.0  Female\n",
      "3   166.5    66.0    Male\n",
      "4   176.0    56.5  Female\n",
      "5   162.0    59.0    Male\n",
      "6   154.0    46.0    Male\n",
      "7   155.0    58.0  Female\n",
      "8   165.0    56.5  Female\n",
      "9   165.0    50.0  Female\n",
      "   height  weight  sex\n",
      "0   170.0    54.0    0\n",
      "1   180.0    50.0    0\n",
      "2   164.0    48.0    1\n",
      "3   166.5    66.0    0\n",
      "4   176.0    56.5    1\n",
      "5   162.0    59.0    0\n",
      "6   154.0    46.0    0\n",
      "7   155.0    58.0    1\n",
      "8   165.0    56.5    1\n",
      "9   165.0    50.0    1\n"
     ]
    }
   ],
   "source": [
    "print(train1_frame)\n",
    "train1_frame['sex'] = np.where(train1_frame['sex'] == \"Male\", 0, 1)\n",
    "print(train1_frame)"
   ]
  },
  {
   "cell_type": "markdown",
   "id": "ac00368d",
   "metadata": {},
   "source": [
    "<span style=\"color:purple\">4) 当坐标为两维时的绘图</span>"
   ]
  },
  {
   "cell_type": "code",
   "execution_count": 7,
   "id": "f4314e6f",
   "metadata": {},
   "outputs": [
    {
     "data": {
      "image/png": "[encoded data removed]",
      "text/plain": [
       "<Figure size 720x360 with 1 Axes>"
      ]
     },
     "metadata": {
      "needs_background": "light"
     },
     "output_type": "display_data"
    }
   ],
   "source": [
    "#确定图画边界和大小\n",
    "plt.figure(figsize=(10,5))\n",
    "x_min, x_max = 0,10\n",
    "y_min, y_max = 0,5\n",
    "#使用numpy中的meshgrid生成网格矩阵，方便进行之后的描点\n",
    "boundary_x, boundary_y = np.meshgrid(np.arange(x_min, x_max, 0.01),np.arange(y_min, y_max, 0.01))\n",
    "grid = np.c_[boundary_x.ravel(), boundary_y.ravel()]\n",
    "#加入偏置对应的一列\n",
    "e=np.ones((len(grid),1))\n",
    "grid=np.c_[e,grid]\n",
    "#假定下列的模型参数\n",
    "w=np.array([[0],[3],[-6]])\n",
    "#计算出网格点中每个点对应的逻辑回归预测值\n",
    "z=grid.dot(w)\n",
    "for i in range(len(z)):\n",
    "    z[i][0]=(1/(1+np.exp(-z[i])))\n",
    "    if(z[i][0]<0.5):z[i][0]=0\n",
    "    else:z[i][0]=1\n",
    "#转换shape以作出决策边界\n",
    "z=z.reshape(boundary_x.shape)\n",
    "plt.contourf(boundary_x, boundary_y, z, cmap=plt.cm.Spectral, zorder=1)\n",
    "plt.show()"
   ]
  },
  {
   "cell_type": "code",
   "execution_count": 8,
   "id": "8c07701a",
   "metadata": {},
   "outputs": [
    {
     "data": {
      "image/png": "[encoded data removed]",
      "text/plain": [
       "<Figure size 432x288 with 1 Axes>"
      ]
     },
     "metadata": {
      "needs_background": "light"
     },
     "output_type": "display_data"
    }
   ],
   "source": [
    "\"\"\"\n",
    "可使用plt.scatter来绘制出测试集的每个样本点，并设置指定颜色来区分预测正确和错误的样本\n",
    "plt.scatter(x,y,c=\"color\")，x、y为坐标值，c为指定颜色\n",
    "\"\"\"\n",
    "class_1=train1_frame[train1_frame['sex']==1]\n",
    "class_0=train1_frame[train1_frame['sex']==0]\n",
    "plt.scatter(class_1['height'],class_1['weight'],c='blue')\n",
    "plt.scatter(class_0['height'],class_0['weight'],c='red')\n",
    "plt.show()"
   ]
  },
  {
   "cell_type": "markdown",
   "id": "657beb0c",
   "metadata": {},
   "source": [
    "**<font color = blue size=4>第二部分:逻辑回归实验一</font>**"
   ]
  },
  {
   "cell_type": "code",
   "execution_count": 9,
   "id": "226badd7",
   "metadata": {},
   "outputs": [],
   "source": [
    "import pandas as pd\n",
    "import numpy as np\n",
    "import matplotlib.pyplot as plt\n",
    "import math\n",
    "import matplotlib as mpl"
   ]
  },
  {
   "cell_type": "markdown",
   "id": "7a0bdb6f",
   "metadata": {},
   "source": [
    "<span style=\"color:purple\">Iris数据集是常用的分类实验数据集,也称鸢尾花卉数据集，是一类多重变量分析的数据集。我们实验选取数据集的部分内容，包含训练集中的80个数据样本和测试集的20个样本，分为2类，每个数据包含2个属性。可通过花萼长度(x1)，花萼宽度(x2)2个属性预测鸢尾花卉属于（Setosa，Versicolour）二个种类中的哪一类。</span>"
   ]
  },
  {
   "attachments": {},
   "cell_type": "markdown",
   "id": "2f16b137",
   "metadata": {},
   "source": [
    "<span style=\"color:purple\">) 使用pandas库将训练数据集'flower_train.csv'与测试数据集'flower_test.csv'载入到Dataframe对象中，并判断训练集中每列数据是否有缺失值或者不合理的数值，如果有，请在不删除数据的前提下进行处理，而测试集为完好的数据集，不需要进行操作。由于花卉类型(type)为字符串类型，请将花卉类型转换为适合模型训练的类型</span>"
   ]
  },
  {
   "cell_type": "code",
   "execution_count": 10,
   "id": "f59640f4",
   "metadata": {},
   "outputs": [
    {
     "name": "stdout",
     "output_type": "stream",
     "text": [
      "x1      5\n",
      "x2      6\n",
      "type    0\n",
      "dtype: int64\n",
      "          x1        x2  type\n",
      "0   5.478667  3.500000     0\n",
      "1   4.900000  3.000000     0\n",
      "2   4.700000  3.200000     0\n",
      "3   4.600000  3.100000     0\n",
      "4   5.000000  3.600000     0\n",
      "..       ...       ...   ...\n",
      "75  5.700000  3.095946     1\n",
      "76  5.700000  2.900000     1\n",
      "77  6.200000  2.900000     1\n",
      "78  5.100000  3.095946     1\n",
      "79  5.700000  2.800000     1\n",
      "\n",
      "[80 rows x 3 columns]\n",
      "[[1.  5.  3.5]\n",
      " [1.  4.5 2.3]\n",
      " [1.  4.4 3.2]\n",
      " [1.  5.  3.6]\n",
      " [1.  5.1 3.8]\n",
      " [1.  4.8 3. ]\n",
      " [1.  5.1 3.7]\n",
      " [1.  4.6 3.2]\n",
      " [1.  5.3 3.7]\n",
      " [1.  5.  3.3]\n",
      " [1.  7.  3.2]\n",
      " [1.  6.4 3.2]\n",
      " [1.  6.9 3.1]\n",
      " [1.  5.5 2.3]\n",
      " [1.  6.5 2.8]\n",
      " [1.  5.7 2.8]\n",
      " [1.  6.  3.5]\n",
      " [1.  4.9 2.4]\n",
      " [1.  6.6 2.9]\n",
      " [1.  5.2 2.7]]\n"
     ]
    }
   ],
   "source": [
    "#your code here------\n",
    "trainframe_1=pd.read_csv(\"flower_train.csv\")\n",
    "testframe_1=pd.read_csv(\"flower_test.csv\")\n",
    "print(trainframe_1.isnull().sum())\n",
    "trainframe_1[['x1','x2']]=trainframe_1[['x1','x2']].replace(0,np.NaN)\n",
    "temp1=trainframe_1[trainframe_1['x1'].notnull()]\n",
    "temp2=trainframe_1[trainframe_1['x2'].notnull()]\n",
    "temp1=temp1['x1'].mean()\n",
    "temp2=temp2['x2'].mean()#求出平均值以取代\n",
    "#print(temp1,temp2) \n",
    "trainframe_1.loc[(trainframe_1['x1'].isnull()),'x1']=temp1\n",
    "trainframe_1.loc[(trainframe_1['x2'].isnull()),'x2']=temp2\n",
    "#print(trainframe_1.isnull().sum())\n",
    "trainframe_1['type'] = np.where(trainframe_1['type'] == \"Iris-setosa\", 0, 1)\n",
    "print(trainframe_1)#完成数据预处理\n",
    "testx=np.array(testframe_1.iloc[ : , :-1])\n",
    "#print(len(testx))\n",
    "testx=np.c_[np.ones((len(testx),1)),testx]\n",
    "print(testx)"
   ]
  },
  {
   "cell_type": "markdown",
   "id": "75b2fd55",
   "metadata": {},
   "source": [
    "<span style=\"color:purple\">2)在之前的线性回归实验中，我们的模型为$\\hat{y}=\\omega^T x+b$，为方便实验，该实验中我们将偏置量b划入模型参数中，则对应的模型变为$\\hat{y}=\\omega^Tx$，请进行相应的转换  \n",
    "tips:上一次实验中的矩阵求解析解的方法中将某一列全设置为1，即将偏置量b算入模型参数中，特征值中加入一列全1的特征量</span>"
   ]
  },
  {
   "cell_type": "code",
   "execution_count": 11,
   "id": "6c2c4001",
   "metadata": {},
   "outputs": [
    {
     "name": "stdout",
     "output_type": "stream",
     "text": [
      "(3,)\n"
     ]
    }
   ],
   "source": [
    "#your code here------\n",
    "\n",
    "X=np.array(trainframe_1.iloc[ : , :-1])\n",
    "y=np.array(trainframe_1.iloc[ : , -1])\n",
    "X=np.c_[np.ones((80,1)),X]#注意这里两重括号\n",
    "theta = np.zeros(X.shape[1])#np.shape[0]第一维度，即行， shape[1]为第二维度，即列\n",
    "print(theta.shape)"
   ]
  },
  {
   "cell_type": "markdown",
   "id": "fec5c2ed",
   "metadata": {},
   "source": [
    "<span style=\"color:purple\">3) 由于逻辑回归的原理是用逻辑函数把线性回归的结果(-∞,∞)映射到(0,1)所以逻辑回归适合于二分类问题。我们使用sigmoid函数$g(z)=\\frac{1}{1+e^{-z}}$将把线性回归的结果从(-∞,∞)映射到(0,1)。  \n",
    "    假设模型为线性回归模型$\\hat{y}=\\omega_0+\\omega_1 x_1+\\omega_2 x_2+...+\\omega_n x_n=\\omega^T x$，则任意样本所对应发生的概率值函数即为$g(\\hat{y})=\\frac{1}{1+e^{-\\hat{y}}}$，这样事情发生(定义为标签为1)的概率为$$P(y=1|x)=\\frac{1}{1+e^{-\\omega^T x}}$$  \n",
    "    对应于任意一个样本(${x_i}$,$y_i$),其中$x_i$为特征值，$y_i$为实际结果值,在参数$\\omega$下，该样本发生的概率为$$P(y_i|x_i,\\omega)=y_i{P(y_i=1|x_i)}+({1-y_i}){P(y_i=0|x_i)}$$\n",
    "    将每个样本发生概率相乘，得到似然函数:$$\\Pi^m_{i=1}{P(y_i|x_i,\\omega)}$$\n",
    "    为了计算方便，一般取对数得到对数似然函数:$$L(\\omega)=\\sum^m_{i=1}{lnP(y_i|x_i,\\omega)}$$  \n",
    "    我们总是希望出现预测正确的概率的可能性最大，即想要得到极大化似然函数对应的参数$\\omega$。这样最大化似然函数就转变为最小化似然函数的负数，取负的平均对数似然函数为损失函数,通过这样构建的损失函数$$J(\\omega)=-\\frac{1}{m}\\sum^m_{i=1}{lnP(y_i|x_i,\\omega)}=-\\frac{1}{m}\\sum^m_{i=1}ln(y_i\\frac{1}{1+e^{-\\omega^T x_i}}+(1-y_i)\\frac{e^{-\\omega^T x_i}}{1+e^{-\\omega^T x_i}})$$  \n",
    "    手动实现梯度下降法(不使用机器学习框架，如PyTorch、TensorFlow等)来进行模型的训练。  </span>"
   ]
  },
  {
   "cell_type": "markdown",
   "id": "f1a81c73",
   "metadata": {},
   "source": [
    "<span style=\"color:purple\">算法步骤如下：①初始化模型参数$\\omega$的值；②在负梯度的方向上更新参数(由于该实验涉及样本数量较小，建议使用批量梯度下降)，并不断迭代这一步骤。</span>"
   ]
  },
  {
   "cell_type": "markdown",
   "id": "4e922340",
   "metadata": {},
   "source": [
    "<span style=\"color:purple\">其中梯度的下降偏导公式为\n",
    "    $$\\frac{\\partial J}{\\partial \\omega_j}=\\frac{1}{m}\\sum_{i=1}^m x_{ij}(\\frac{e^{\\omega^T x_i}}{1+e^{\\omega^T x_i}}-y_i)$$  \n",
    "    参数更新的公式为$$\\omega_j =\\omega_j-\\eta\\frac{\\partial J}{\\partial w_j}$$其中$\\eta$表示学习率，$m$则表示批量中的样本数量，$x_{ij}$代表着第i个样本的第j个特征值,$y_i$代表着第i个样本的真实值</span>"
   ]
  },
  {
   "cell_type": "code",
   "execution_count": 12,
   "id": "8a92473b",
   "metadata": {},
   "outputs": [],
   "source": [
    "#your code here------\n",
    "# 1)Sigmoid Fuc\n",
    "def sigmoid(z):\n",
    "    return 1 / (1 + np.exp(-z))\n",
    "# 2)Cost Fuc\n",
    "def computeCost(theta, X, y):\n",
    "    first = (-y) * np.log(sigmoid(X @ theta))\n",
    "    second = (1 - y)*np.log(1 - sigmoid(X @ theta))\n",
    "    return np.mean(first - second)\n",
    "# 3)Gradient Fuc\n",
    "def gradient(theta, X, y):\n",
    "    # the gradient of the cost is a vector of the same length as θ where the jth element (for j = 0, 1, . . . , n)\n",
    "    return (X.T @ (sigmoid(X @ theta) - y)) / len(X)\n",
    "# @相当于.dot()\n",
    "def gradientDescent1(X,y, theta, alpha, epoch):  #epoch为训练次数\n",
    "    temp=np.array(np.zeros(theta.shape))#初始化一个临时矩阵\n",
    "    cost=np.zeros(epoch)#初始化一个ndarray，包含每次训练后的cost\n",
    "    #np.zeros 生成一个一维0矩阵\n",
    "    counterTheta=np.zeros((epoch,theta.shape[0])) #对应每次cost的theta\n",
    "    m=len(X)#求行数\n",
    "    for i in range(epoch):\n",
    "        temp = theta-alpha*gradient(theta, X, y)\n",
    "        theta=temp\n",
    "        counterTheta[i]=theta\n",
    "        cost[i]=computeCost(theta,X, y)#计算损失函数值\n",
    "    pass #空语句，占位，避免报错\n",
    "    return counterTheta, theta, cost\n",
    "def predict(theta, X):\n",
    "    probability = sigmoid(X @ theta)\n",
    "    return [1 if x >= 0.5 else 0 for x in probability]"
   ]
  },
  {
   "cell_type": "code",
   "execution_count": 13,
   "id": "5e7a108f",
   "metadata": {},
   "outputs": [],
   "source": [
    "alpha =0.01\n",
    "epoch=4500\n",
    "#得到最后的参数\n",
    "counterTheta, final_theta, cost=gradientDescent1(X, y, theta, alpha, epoch)"
   ]
  },
  {
   "cell_type": "markdown",
   "id": "b24f2e7e",
   "metadata": {},
   "source": [
    "<span style=\"color:purple\">4)在模型训练完成后得到所训练的模型参数$\\omega$，在测试集上进行所训练模型的测试并使用之前所介绍的损失函数计算loss值</span>"
   ]
  },
  {
   "cell_type": "code",
   "execution_count": 14,
   "id": "a4253a5c",
   "metadata": {},
   "outputs": [
    {
     "data": {
      "image/png": "[encoded data removed]",
      "text/plain": [
       "<Figure size 576x288 with 1 Axes>"
      ]
     },
     "metadata": {
      "needs_background": "light"
     },
     "output_type": "display_data"
    },
    {
     "name": "stdout",
     "output_type": "stream",
     "text": [
      "0.19656028879904547\n"
     ]
    }
   ],
   "source": [
    "#your code here------\n",
    "fig2, ax = plt.subplots(figsize=(8, 4))\n",
    "ax.plot(np.arange(epoch), cost, 'r') #arange() 主要是用于生成数组,括号内只有一个值代表终止值\n",
    "ax.set_xlabel('Iteration')\n",
    "ax.set_ylabel('Cost')\n",
    "ax.set_title('Error vs. Training Epoch')#画出损失函数与迭代次数的图像\n",
    "plt.show()\n",
    "print(cost[-1])#此为最后一次loss值"
   ]
  },
  {
   "attachments": {},
   "cell_type": "markdown",
   "id": "75bd5286",
   "metadata": {},
   "source": [
    "<span style=\"color:purple\">5)使用训练后的逻辑回归模型对测试数据集'flower_test.csv'进行预测，输出可视化结果（比如用seaborn或者matplotlib等可视化库来画出测试数据的散点图以及训练好的模型函数图像)，要求如下:  \n",
    "    1.将所得到的逻辑回归模型所得到的决策边界绘制出来  \n",
    "  2.测试集的所有点在同一幅图中进行绘制  \n",
    "  3.需要给不同类别的测试点不同颜色，方便通过颜色的区别直观看到预测正确和错误的样本</span>"
   ]
  },
  {
   "cell_type": "code",
   "execution_count": 15,
   "id": "3a2b4e39",
   "metadata": {},
   "outputs": [],
   "source": [
    "positive = trainframe_1[trainframe_1.type.isin([1])]  # 1\n",
    "negetive = trainframe_1[trainframe_1.type.isin([0])]  # 0\n"
   ]
  },
  {
   "cell_type": "code",
   "execution_count": 16,
   "id": "e677d6d6",
   "metadata": {},
   "outputs": [
    {
     "data": {
      "image/png": "[encoded data removed]",
      "text/plain": [
       "<Figure size 432x360 with 1 Axes>"
      ]
     },
     "metadata": {
      "needs_background": "light"
     },
     "output_type": "display_data"
    },
    {
     "data": {
      "image/png": "[encoded data removed]",
      "text/plain": [
       "<Figure size 576x432 with 1 Axes>"
      ]
     },
     "metadata": {
      "needs_background": "light"
     },
     "output_type": "display_data"
    }
   ],
   "source": [
    "fig, ax = plt.subplots(figsize=(6, 5))\n",
    "ax.scatter(positive['x1'], positive['x2'], c='orange', label='Iris-setosa')\n",
    "ax.scatter(negetive['x1'], negetive['x2'], c='b', marker='*', label='Iris-versicolor')\n",
    "# 设置图例显示在图的上方\n",
    "box = ax.get_position()\n",
    "# 若是将图例画在坐标外边，如果放在右边，一般要给width*0.8左右的值，在上边，要给height*0.8左右的值\n",
    "ax.set_position([box.x0, box.y0, box.width, box.height*0.8])\n",
    "ax.legend(loc='center left', bbox_to_anchor=(0.2, 1.12), ncol=2)\n",
    "'''\n",
    "(横向看右，纵向看下),如果要自定义图例位置或者将图例画在坐标外边，用它，\n",
    "比如bbox_to_anchor=(1.4,0.8)，这个一般配合着ax.get_position()，set_position([box.x0, box.y0, box.width*0.8 , box.height])使用\n",
    "用不到的参数可以直接去掉,有的参数没写进去，用得到的话加进去 , bbox_to_anchor=(1.11,0)\n",
    "‘’’\n",
    "'''\n",
    "# 设置横纵坐标名\n",
    "ax.set_xlabel('x1')\n",
    "ax.set_ylabel('x2')\n",
    "# 以下是根据数学关系式来决定的\n",
    "x1 = np.arange(3.5, 7.5, step=0.1)\n",
    "x2 = -(final_theta[0] + x1 * final_theta[1]) / final_theta[2]\n",
    "fig2, ax = plt.subplots(figsize=(8, 6))\n",
    "ax.scatter(positive['x1'], positive['x2'], c='orange', label='Iris-setosa')\n",
    "ax.scatter(negetive['x1'], negetive['x2'], c='b', marker='*', label='Iris-versicolor')\n",
    "ax.plot(x1, x2)\n",
    "ax.set_xlim(4.0, 7.0)\n",
    "ax.set_ylim(1, 5)\n",
    "ax.set_xlabel('x1')\n",
    "ax.set_ylabel('x2')\n",
    "ax.set_title('Decision boundary')\n",
    "plt.show()\n"
   ]
  },
  {
   "cell_type": "code",
   "execution_count": 17,
   "id": "3597e87c",
   "metadata": {},
   "outputs": [
    {
     "data": {
      "image/png": "[encoded data removed]",
      "text/plain": [
       "<Figure size 432x360 with 1 Axes>"
      ]
     },
     "metadata": {
      "needs_background": "light"
     },
     "output_type": "display_data"
    },
    {
     "name": "stdout",
     "output_type": "stream",
     "text": [
      "[1, 0, 1, 1, 1, 1, 1, 1, 1, 1, 1, 1, 1, 1, 1, 1, 0, 1, 1, 1]\n",
      "accuracy = 90.0 %\n"
     ]
    }
   ],
   "source": [
    "#预测结果 得到了0和1\n",
    "result= predict(final_theta, testx)\n",
    "#result 为0，1，而testy为type\n",
    "for i in range(20):\n",
    "    if result[i]==0:\n",
    "        result[i]='Iris-setosa'\n",
    "    else:\n",
    "        result[i]='Iris-versicolor'\n",
    "\n",
    "trainframe_1['type'] = np.where(trainframe_1['type'] == \"Iris-setosa\", 0, 1)\n",
    "#如何判断预测正确，预测错误？\n",
    "#print(result)\n",
    "fig, ax = plt.subplots(figsize=(6, 5))\n",
    "testy=np.array(testframe_1.iloc[ : , -1])\n",
    "#print(testy)\n",
    "x_column=np.arange(1,21, step=1)\n",
    "ax.scatter(x_column, result, c='b', label='predict')\n",
    "ax.scatter(x_column, testy, c='r',marker='*', label='real result')\n",
    "box = ax.get_position()\n",
    "ax.set_position([box.x0, box.y0, box.width, box.height*0.8])\n",
    "ax.legend(loc='center left', bbox_to_anchor=(0.2, 1.12), ncol=2)\n",
    "ax.set_xlabel('item')\n",
    "ax.set_ylabel('result')\n",
    "ax.set_title('Predict')\n",
    "plt.show()\n",
    "# 统计预测正确率\n",
    "result=np.array(result)\n",
    "correct = [1 if ((a == 'Iris-setosa'  and b == 'Iris-setosa') or (a == 'Iris-versicolor' and b == 'Iris-versicolor')) else 0 for (a, b) in zip(result, testy)]\n",
    "print(correct)\n",
    "accuracy = (sum(correct) / len(correct))*100\n",
    "print ('accuracy =',accuracy, '%') "
   ]
  },
  {
   "cell_type": "markdown",
   "id": "b869bee1",
   "metadata": {},
   "source": [
    "**<font color = blue size=4>第三部分:逻辑回归实验二</font>**"
   ]
  },
  {
   "cell_type": "markdown",
   "id": "cf3a5a55",
   "metadata": {},
   "source": [
    "<span style=\"color:purple\">该数据集(train_titanic.csv和test_titanic.csv)同样为分类数据集，为泰坦尼克号的乘客信息以及最后是否生还。包括了七个特征值以及一个类别特征(即为Survived类型,代表是否生还),特征信息分别为Passengerid(乘客id)，Age(乘客年龄)，Fare(船票价格),Sex(性别)，sibsp(堂兄弟妹个数)，Parch(父母与小孩的个数)，Pclass(乘客等级)</span>"
   ]
  },
  {
   "cell_type": "markdown",
   "id": "f4a492fe",
   "metadata": {},
   "source": [
    "<span style=\"color:purple\">该数据集已经做了处理，无缺失值和空值，且字符串类型全部转换成了整数类型，但是七个特征值与最后是否生还关联度不同。该实验的任务依然是在训练集上使用逻辑回归方法和手动实现的梯度下降方法完成模型训练。</span>"
   ]
  },
  {
   "cell_type": "code",
   "execution_count": 18,
   "id": "7ebd3c1e",
   "metadata": {},
   "outputs": [],
   "source": [
    "import pandas as pd\n",
    "from sklearn.model_selection import KFold \n",
    "import numpy as np\n",
    "import matplotlib.pyplot as plt\n",
    "import math\n",
    "from sklearn.model_selection import KFold  # 从sklearn导入KFold包\n",
    "from sklearn.metrics import precision_recall_curve\n",
    "#from sklearn.utils.fixes import signature\n",
    "#read me: 后续若要修改特征，更换模型，只要改下fortest的数据及传入模型的参数即可\n"
   ]
  },
  {
   "cell_type": "markdown",
   "id": "915ff106",
   "metadata": {},
   "source": [
    "<span style=\"color:purple\">1) 使用pandas库将训练数据集'train_titanic.csv'与测试数据集'test_titanic.csv'载入到Dataframe对象中</span>"
   ]
  },
  {
   "cell_type": "code",
   "execution_count": 19,
   "id": "7056ffde",
   "metadata": {},
   "outputs": [
    {
     "name": "stdout",
     "output_type": "stream",
     "text": [
      "[[1.00000e+00 2.20000e+01 7.25000e+00 ... 0.00000e+00 3.00000e+00\n",
      "  0.00000e+00]\n",
      " [2.00000e+00 3.80000e+01 7.12833e+01 ... 0.00000e+00 1.00000e+00\n",
      "  1.00000e+00]\n",
      " [3.00000e+00 2.60000e+01 7.92500e+00 ... 0.00000e+00 3.00000e+00\n",
      "  1.00000e+00]\n",
      " ...\n",
      " [1.30700e+03 3.85000e+01 7.25000e+00 ... 0.00000e+00 3.00000e+00\n",
      "  0.00000e+00]\n",
      " [1.30800e+03 2.80000e+01 8.05000e+00 ... 0.00000e+00 3.00000e+00\n",
      "  0.00000e+00]\n",
      " [1.30900e+03 2.80000e+01 2.23583e+01 ... 1.00000e+00 3.00000e+00\n",
      "  0.00000e+00]]\n"
     ]
    }
   ],
   "source": [
    "#1， data prepare\n",
    "train_frame=pd.read_csv('train_titanic.csv')\n",
    "test_frame=pd.read_csv('test_titanic.csv')\n",
    "train=np.array(train_frame)\n",
    "test=np.array(test_frame)\n",
    "print(train)"
   ]
  },
  {
   "cell_type": "markdown",
   "id": "9abde442",
   "metadata": {},
   "source": [
    "<span style=\"color:purple\">2) 选择至少4个特征值建立逻辑回归模型，利用梯度下降方法(由于该数据集样本数量较大，所以建议使用随机批量或小批量)进行模型训练，并使用10次10折交叉验证进行模型选择。</span>"
   ]
  },
  {
   "cell_type": "code",
   "execution_count": 20,
   "id": "54134cf8",
   "metadata": {},
   "outputs": [],
   "source": [
    "#理论上组数为C74+C75+C76+C77的排列组合\n",
    "#一组为Sex， age， Parch， fare\n",
    "#另一组为Sex， id, Pclass, siblp, \n",
    "fold=10\n",
    "model1=train_frame[['Sex', 'Age','Parch', 'Pclass','Survived']] #模型一\n",
    "model2=train_frame[['Sex', 'Passengerid', 'Pclass', 'sibsp', 'Survived']]   #模型二\n",
    "model3=train_frame[['Sex', 'Age', 'Pclass', 'Parch','Fare', 'Survived']]     #模型三\n",
    "fortest=test_frame[['Sex', 'Age','Parch', 'Pclass','Survived']]         #用哪几个特证训练就用哪几个特征测试\n",
    "model1=np.array(model1)\n",
    "model2=np.array(model2)\n",
    "model3=np.array(model3)\n",
    "fortest=np.array(fortest)"
   ]
  },
  {
   "cell_type": "code",
   "execution_count": 21,
   "id": "55e62317",
   "metadata": {},
   "outputs": [],
   "source": [
    "#2， def fun\n",
    "def gradientDescent2(X,y, theta, alpha, epoch):  #epoch为训练次数\n",
    "    temp=np.array(np.zeros(theta.shape))#初始化一个临时矩阵\n",
    "    cost=np.zeros(epoch)#初始化一个ndarray，包含每次训练后的cost\n",
    "    #np.zeros 生成一个一维0矩阵\n",
    "    counterTheta=np.zeros((epoch,theta.shape[0], 1)) #对应每次cost的theta\n",
    "    m=len(X)#求行数\n",
    "    for i in range(epoch):\n",
    "        temp = theta-alpha*gradient(theta, X, y)\n",
    "        theta=temp\n",
    "        counterTheta[i]=theta\n",
    "        cost[i]=computeCost(theta,X, y)#计算损失函数值\n",
    "    pass #空语句，占位，避免报错\n",
    "    return counterTheta, theta, cost\n",
    "def StochastiGD(X, y, theta ,alpha, epoch):\n",
    "    temp=np.matrix(np.zeros(theta.shape[0]))\n",
    "    cost=np.zeros(epoch)\n",
    "    counterTheta=np.zeros((epoch,2))\n",
    "    m=X.shape[0]\n",
    "    for i in range(epoch):\n",
    "        for j in range(m):\n",
    "            temp=theta-alpha*(X[j]*theta.T-y[j]).T*X[j]\n",
    "            theta=temp\n",
    "            #counterTheta[i]=theta\n",
    "            cost[i]=computeCost(X,y, theta)#计算损失函数值\n",
    "            pass\n",
    "        pass\n",
    "    return counterTheta, theta, cost\n",
    "\n",
    "#输入数据推荐使用numpy数组，使用list格式输入会报错\n",
    "def K_Flod_spilt(K,fold,data):\n",
    "    '''\n",
    "    :param K: 要把数据集分成的份数。如十次十折取K=10\n",
    "    :param fold: 要取第几折的数据。如要取第5折则 flod=5\n",
    "    :param data: 需要分块的数据\n",
    "    :param label: 对应的需要分块标签\n",
    "    :return: 对应折的训练集、测试集和对应的标签\n",
    "    '''\n",
    "    split_list = []\n",
    "    kf = KFold(n_splits=K)\n",
    "    for train, test in kf.split(data):\n",
    "        split_list.append(train.tolist())\n",
    "        split_list.append(test.tolist())\n",
    "    train,test=split_list[2 * fold],split_list[2 * fold + 1]\n",
    "    return  data[train], data[test]#已经分好块的数据集\n",
    "def trainmodel(i, model, feature):               #训练模型，后续可以直接套, feature为特征数量\n",
    "    train_i, test_i =K_Flod_spilt(10, i, model)\n",
    "    #得到一折数据\n",
    "    #取出前四列和后1列\n",
    "    train_i=np.array(train_i)               #数据预处理！！！\n",
    "    test_i=np.array(test_i)\n",
    "    xi=train_i[ : , 0:feature]\n",
    "    yi=train_i[ : , feature:feature+1]\n",
    "    x_i=test_i[ : , 0:feature]\n",
    "    y_i=test_i[ : , feature:feature+1]\n",
    "    xi=np.c_[np.ones((xi.shape[0],1)),xi]       #注意要用shape[0]，记得加‘1’列\n",
    "    x_i=np.c_[np.ones((x_i.shape[0],1)),x_i]\n",
    "    #print(xi.shape)  #直接.shape\n",
    "    #print(yi.shape)\n",
    "    thetami=np.zeros((xi.shape[1],1))           #注意若有bug，试试二维！！！\n",
    "    alpha=0.01\n",
    "    epoch=3800\n",
    "    counterThetai, thetai, costi=gradientDescent2(xi, yi, thetami ,alpha, epoch)\n",
    "    #print(theta1, cost1)\n",
    "    result1=predict(thetai, x_i)\n",
    "    result1=np.array(result1)\n",
    "    correct = [1 if ((a == 1  and b == 1) or (a == 0 and b == 0)) else 0 for (a, b) in zip(result1, y_i)]\n",
    "    #print(correct)\n",
    "    accuracy = (sum(correct) / len(correct))*100\n",
    "    print ('accuracy =',accuracy, '%')\n",
    "    return accuracy\n"
   ]
  },
  {
   "cell_type": "code",
   "execution_count": 22,
   "id": "08514870",
   "metadata": {},
   "outputs": [
    {
     "name": "stdout",
     "output_type": "stream",
     "text": [
      "accuracy = 63.366336633663366 %\n",
      "accuracy = 75.24752475247524 %\n",
      "accuracy = 63.366336633663366 %\n",
      "accuracy = 60.396039603960396 %\n",
      "accuracy = 63.366336633663366 %\n",
      "accuracy = 73.26732673267327 %\n",
      "accuracy = 90.0990099009901 %\n",
      "accuracy = 86.13861386138613 %\n",
      "accuracy = 89.10891089108911 %\n",
      "accuracy = 86.0 %\n",
      "\n",
      "\n",
      "accuracy = 59.4059405940594 %\n",
      "accuracy = 72.27722772277228 %\n",
      "accuracy = 59.4059405940594 %\n",
      "accuracy = 52.475247524752476 %\n",
      "accuracy = 39.603960396039604 %\n",
      "accuracy = 70.29702970297029 %\n",
      "accuracy = 100.0 %\n",
      "accuracy = 100.0 %\n",
      "accuracy = 100.0 %\n",
      "accuracy = 100.0 %\n",
      "\n",
      "\n",
      "accuracy = 59.4059405940594 %\n",
      "accuracy = 66.33663366336634 %\n",
      "accuracy = 74.25742574257426 %\n",
      "accuracy = 52.475247524752476 %\n",
      "accuracy = 60.396039603960396 %\n",
      "accuracy = 70.29702970297029 %\n",
      "accuracy = 100.0 %\n",
      "accuracy = 92.07920792079209 %\n",
      "accuracy = 72.27722772277228 %\n",
      "accuracy = 88.0 %\n",
      "model1 accuracy:  0.7503564356435644\n",
      "model2 accuracy:  0.7534653465346535\n",
      "model3 accuracy:  0.7355247524752475\n"
     ]
    }
   ],
   "source": [
    "accm1=accm2=accm3=0           #accm1为第一个模型的正确率， accm2为第二个模型的正确率\n",
    "for i in range(10):\n",
    "    accm1+=(trainmodel(i, model1, 4)/100)\n",
    "print('\\n')\n",
    "for i in range(10):\n",
    "    accm2+=(trainmodel(i, model2, 4)/100)\n",
    "print('\\n')\n",
    "for i in range(10):\n",
    "    accm3+=(trainmodel(i, model3, 5)/100)\n",
    "accm1/=10\n",
    "accm2/=10\n",
    "accm3/=10\n",
    "print(\"model1 accuracy: \",accm1)\n",
    "print(\"model2 accuracy: \",accm2)\n",
    "print(\"model3 accuracy: \",accm3)"
   ]
  },
  {
   "cell_type": "markdown",
   "id": "95f698bc",
   "metadata": {},
   "source": [
    "<span style=\"color:purple\">3) 使用训练后的逻辑回归模型对测试数据集'test_titanic.csv'进行预测，并计算其精度，查准率，查全率，画出P-R曲线，画出ROC曲线。</span>"
   ]
  },
  {
   "cell_type": "code",
   "execution_count": 23,
   "id": "4dd020b7",
   "metadata": {},
   "outputs": [
    {
     "name": "stdout",
     "output_type": "stream",
     "text": [
      "accuracy = 68.66666666666667 %\n",
      "P=  0.9545454545454546\n",
      "R=  0.1842105263157895\n"
     ]
    }
   ],
   "source": [
    "#经过十折交叉验证后发现第1组模型效果较好，选择第1组模型，并以数据集全部数据作为训练数据重新训练得到参数，再进行预测\n",
    "#本代码优点在于：将模型封装为函数，后续只需将不同参数传入函数即可得到训练结果，便捷性与泛化性强！！\n",
    "def traindata(model, feature):\n",
    "    x1=model1[ : , 0:feature]\n",
    "    y1=model1[ : , feature:feature+1]\n",
    "    x1=np.c_[np.ones((x1.shape[0],1)),x1]       #注意要用shape[0]\n",
    "    theta1=np.zeros((x1.shape[1],1))           #注意若有bug，试试二维！！！\n",
    "    alpha=0.01\n",
    "    epoch=3800\n",
    "    counterTheta1, theta1, cost1=gradientDescent2(x1, y1, theta1 ,alpha, epoch)\n",
    "    testx=fortest[ : , 0:feature]\n",
    "    testx=np.c_[np.ones((testx.shape[0], 1)), testx]\n",
    "    testy=fortest[ : , feature:feature+1]\n",
    "    result1=predict(theta1, testx)\n",
    "    result1=np.array(result1)\n",
    "    correct = [1 if ((a == 1  and b == 1) or (a == 0 and b == 0)) else 0 for (a, b) in zip(result1, testy)] #计算精度\n",
    "    TP=[1 if(a==1 and b==1) else 0 for (a, b) in zip(result1, testy)]   #注意，此处还只是列表\n",
    "    FP=[1 if(a==1 and b==0) else 0 for (a, b) in zip(result1, testy)]\n",
    "    FN=[1 if(a==0 and b==1) else 0 for (a, b) in zip(result1, testy)]\n",
    "    TPvalue=(sum(TP)/len(TP))       #转化为具体数值\n",
    "    FPvalue=(sum(FP)/len(FP))\n",
    "    FNvalue=(sum(FN)/len(FN))\n",
    "    P=TPvalue/(TPvalue+FPvalue)\n",
    "    R=TPvalue/(TPvalue+FNvalue)\n",
    "    #print(correct)\n",
    "    accuracy = (sum(correct) / len(correct))*100\n",
    "    print ('accuracy =',accuracy, '%')\n",
    "    print(\"P= \", P)\n",
    "    print(\"R= \", R)\n",
    "    return testx, testy, theta1,\n",
    "testx, testy, theta1=traindata(model1, 4)"
   ]
  },
  {
   "cell_type": "code",
   "execution_count": 24,
   "id": "386392aa",
   "metadata": {},
   "outputs": [
    {
     "data": {
      "image/png": "[encoded data removed]",
      "text/plain": [
       "<Figure size 432x288 with 1 Axes>"
      ]
     },
     "metadata": {
      "needs_background": "light"
     },
     "output_type": "display_data"
    }
   ],
   "source": [
    "#画出P-R曲线， ROC曲线\n",
    "#P-R曲线的生成方法：根据学习器的预测结果对样本进行排序,排在前面的是学习器认为最可能是正例的样本，排在最后的是最不可能是正例的样本\n",
    "#这个依次将样本做为正例的过程实际上就是逐步降低样本为正例的概率的阈值，通过降低阈值，更多的样本会被预测为正例，从而会提高查全率，相对的查准率可能降低\n",
    "plt.figure(\"P-R Curve\")\n",
    "plt.title('Precision/Recall Curve')\n",
    "plt.xlabel('Recall')\n",
    "plt.ylabel('Precision')\n",
    "#y_true为样本实际的类别，y_scores为样本为正例的概率\n",
    "#将样本类别与概率捆版，然后对概率排序，每次增加一个正例，画出pr曲线\n",
    "y_true=testy                                #样本实际类别即为testy\n",
    "probability = sigmoid(testx @ theta1)       #计算每个样本的概率\n",
    "precision, recall, thresholds = precision_recall_curve(y_true, probability)\n",
    "#print(testy)\n",
    "#print(probability)\n",
    "plt.plot(recall,precision)\n",
    "plt.show()\n"
   ]
  },
  {
   "cell_type": "code",
   "execution_count": 25,
   "id": "22c3219a",
   "metadata": {},
   "outputs": [
    {
     "data": {
      "text/plain": [
       "[<matplotlib.lines.Line2D at 0x2a66df1ed00>]"
      ]
     },
     "execution_count": 25,
     "metadata": {},
     "output_type": "execute_result"
    },
    {
     "data": {
      "image/png": "[encoded data removed]",
      "text/plain": [
       "<Figure size 432x288 with 1 Axes>"
      ]
     },
     "metadata": {
      "needs_background": "light"
     },
     "output_type": "display_data"
    }
   ],
   "source": [
    "#ROC曲线\n",
    "mtrue=len(testy[testy==1])  #实际结果为正例\n",
    "mfalse=len(testy[testy==0]) #实际结果为负例\n",
    "data=np.c_[testy, probability]\n",
    "data=sorted(data, key=lambda x:x[1], reverse=True)      #对二维列表排序\n",
    "#print(data)\n",
    "x=[0]           #x坐标\n",
    "y=[0]           #y坐标\n",
    "ytrue=0         #标记为正例的数量\n",
    "for i in range(1,len(testy)):\n",
    "    if data[i][0]==1:\n",
    "        ytrue+=1\n",
    "        x.append(i/mfalse)\n",
    "        y.append(ytrue/mtrue) \n",
    "    else:\n",
    "        x.append((i+1)/mfalse)\n",
    "        y.append(ytrue/mtrue)\n",
    "plt.xlabel('false positive rate')\n",
    "plt.ylabel('true positive rate')\n",
    "plt.plot(x, y)"
   ]
  }
 ],
 "metadata": {
  "kernelspec": {
   "display_name": "Python 3.9.12 ('base')",
   "language": "python",
   "name": "python3"
  },
  "language_info": {
   "codemirror_mode": {
    "name": "ipython",
    "version": 3
   },
   "file_extension": ".py",
   "mimetype": "text/x-python",
   "name": "python",
   "nbconvert_exporter": "python",
   "pygments_lexer": "ipython3",
   "version": "3.9.12"
  },
  "vscode": {
   "interpreter": {
    "hash": "f8b40d688a12481f01eadf7380c47edd8a49484a47dba3db091451640e880c68"
   }
  }
 },
 "nbformat": 4,
 "nbformat_minor": 5
}
