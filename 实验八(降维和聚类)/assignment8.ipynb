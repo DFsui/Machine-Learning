{
 "cells": [
  {
   "attachments": {},
   "cell_type": "markdown",
   "id": "0c6be3f3",
   "metadata": {},
   "source": [
    "**<font color = white size=6>实验八：降维和聚类</font>**"
   ]
  },
  {
   "cell_type": "markdown",
   "id": "d64c05e8",
   "metadata": {},
   "source": []
  },
  {
   "cell_type": "markdown",
   "id": "c67603ef",
   "metadata": {},
   "source": [
    "本次实验为编写机器学习中的用于降维的PCA(主成分分析)和聚类的k-means算法。在本次实验中，我们将对一个维度过高的数据集进行降维，之后对降维后的数据进行聚类。"
   ]
  },
  {
   "cell_type": "code",
   "execution_count": 1,
   "id": "073dcebf",
   "metadata": {},
   "outputs": [],
   "source": [
    "import pandas as pd\n",
    "import numpy as np\n",
    "import random\n",
    "import matplotlib.pyplot as plt\n",
    "import math\n",
    "import matplotlib as mpl\n",
    "from pandas.core.frame import DataFrame\n",
    "import warnings\n",
    "warnings.filterwarnings('ignore')"
   ]
  },
  {
   "cell_type": "code",
   "execution_count": null,
   "id": "007022e6",
   "metadata": {},
   "outputs": [],
   "source": []
  },
  {
   "cell_type": "markdown",
   "id": "1dfd27f7",
   "metadata": {},
   "source": [
    "**<font color = blue size=4>第一部分:函数介绍</font>**"
   ]
  },
  {
   "cell_type": "markdown",
   "id": "33c792dc",
   "metadata": {},
   "source": [
    "介绍一些可以用到的函数"
   ]
  },
  {
   "cell_type": "markdown",
   "id": "8623386d",
   "metadata": {},
   "source": [
    "1.计算方阵的特征值和特征向量"
   ]
  },
  {
   "cell_type": "code",
   "execution_count": 2,
   "id": "0b7f2092",
   "metadata": {},
   "outputs": [
    {
     "name": "stdout",
     "output_type": "stream",
     "text": [
      "该矩阵的特征值: [1. 2. 3.]\n",
      "该矩阵的特征向量: [[1. 0. 0.]\n",
      " [0. 1. 0.]\n",
      " [0. 0. 1.]]\n"
     ]
    }
   ],
   "source": [
    "a=np.array([[1,0,0],[0,2,0],[0,0,3]])\n",
    "vals,vecs=np.linalg.eig(a)\n",
    "print(\"该矩阵的特征值:\",vals)\n",
    "print(\"该矩阵的特征向量:\",vecs)"
   ]
  },
  {
   "cell_type": "markdown",
   "id": "eff37fad",
   "metadata": {},
   "source": [
    "2.排序函数"
   ]
  },
  {
   "cell_type": "code",
   "execution_count": 3,
   "id": "2ef721e8",
   "metadata": {},
   "outputs": [
    {
     "name": "stdout",
     "output_type": "stream",
     "text": [
      "[1, 2, 3, 4]\n",
      "未排序前: [(3, [0, 0, 3, 0]), (1, [1, 0, 0, 0]), (2, [0, 2, 0, 0]), (4, [0, 0, 0, 4])]\n",
      "排序后: [(1, [1, 0, 0, 0]), (2, [0, 2, 0, 0]), (3, [0, 0, 3, 0]), (4, [0, 0, 0, 4])]\n"
     ]
    }
   ],
   "source": [
    "#list的排序\n",
    "a=[3,1,2,4]\n",
    "a.sort()\n",
    "print(a)\n",
    "#字典的排序\n",
    "a=[3,1,2,4]\n",
    "b=[[0,0,3,0],[1,0,0,0],[0,2,0,0],[0,0,0,4]]\n",
    "c = [(a[i],b[i]) for i in range(len(a))]\n",
    "print(\"未排序前:\",c)\n",
    "c=sorted(c)\n",
    "print(\"排序后:\",c)"
   ]
  },
  {
   "cell_type": "markdown",
   "id": "1a0fe79b",
   "metadata": {},
   "source": [
    "**<font color = blue size=4>第二部分:实验任务</font>**"
   ]
  },
  {
   "cell_type": "markdown",
   "id": "4c351d23",
   "metadata": {},
   "source": [
    "**<font color = green size=3>1):降维</font>**"
   ]
  },
  {
   "cell_type": "markdown",
   "id": "ac44d45c",
   "metadata": {},
   "source": [
    "<span style=\"color:purple\">1.将训练集\"train_data.csv\"导入，训练集共有167个样本，每个样本有9个特征值，将原始数据按列组成9行167列的矩阵X</span>"
   ]
  },
  {
   "cell_type": "code",
   "execution_count": 4,
   "id": "d54060ef",
   "metadata": {},
   "outputs": [
    {
     "name": "stdout",
     "output_type": "stream",
     "text": [
      "[[90.2  16.6  27.3 ]\n",
      " [10.   28.   38.4 ]\n",
      " [ 7.58  6.55  4.17]]\n"
     ]
    }
   ],
   "source": [
    "train_data=pd.read_csv(\"train_data.csv\")\n",
    "train_data=np.array(train_data)\n",
    "X=train_data.T\n",
    "print(X[0:3, 0:3])"
   ]
  },
  {
   "cell_type": "markdown",
   "id": "22e10545",
   "metadata": {},
   "source": [
    "<span style=\"color:purple\">2.对所有样本进行中心化，即将X的每一行减去这一行的均值</span>"
   ]
  },
  {
   "cell_type": "code",
   "execution_count": 5,
   "id": "f44bbc10",
   "metadata": {},
   "outputs": [
    {
     "name": "stdout",
     "output_type": "stream",
     "text": [
      "[[3.82700599e+01]\n",
      " [4.11089760e+01]\n",
      " [6.81568862e+00]\n",
      " [4.68902150e+01]\n",
      " [1.71446886e+04]\n",
      " [7.78183234e+00]\n",
      " [7.05556886e+01]\n",
      " [2.94796407e+00]\n",
      " [1.29641557e+04]]\n",
      "[[ 51.92994012 -21.67005988 -10.97005988]\n",
      " [-31.10897605 -13.10897605  -2.70897605]\n",
      " [  0.76431138  -0.26568862  -2.64568862]]\n"
     ]
    }
   ],
   "source": [
    "mean=(np.mean(X, axis=1)).reshape(9,1)\n",
    "\n",
    "print(mean)\n",
    "X_cent=X-mean   #中心化\n",
    "print(X_cent[0:3, 0:3])"
   ]
  },
  {
   "attachments": {},
   "cell_type": "markdown",
   "id": "533ea386",
   "metadata": {},
   "source": [
    "<span style=\"color:white\">3.求出协方差矩阵$X$.$X^T$</span>"
   ]
  },
  {
   "cell_type": "code",
   "execution_count": 6,
   "id": "b56235b2",
   "metadata": {},
   "outputs": [
    {
     "name": "stdout",
     "output_type": "stream",
     "text": [
      "[[ 2.69986170e+05 -5.83740872e+04 -3.68519056e+03 -2.06175289e+04\n",
      "  -6.76675731e+07  2.04003422e+04 -5.27893716e+04  8.59899282e+03\n",
      "  -5.92696868e+07]\n",
      " [-5.83740872e+04  1.24735438e+05 -1.43001259e+03  8.12322033e+04\n",
      "   4.53337033e+07 -5.16095301e+03  1.28003592e+04 -2.20442541e+03\n",
      "   3.49228261e+07]\n",
      " [-3.68519056e+03 -1.43001259e+03  1.25248930e+03  1.05661334e+03\n",
      "   1.13903707e+06 -1.23090544e+03  8.54370096e+02 -1.35759466e+02\n",
      "   2.89138322e+06]\n",
      " [-2.06175289e+04  8.12322033e+04  1.05661334e+03  9.72932969e+04\n",
      "   9.48336778e+06 -1.04926771e+04  1.94390717e+03 -9.67624913e+02\n",
      "   8.50750834e+06]\n",
      " [-6.76675731e+07  4.53337033e+07  1.13903707e+06  9.48336778e+06\n",
      "   6.16928864e+10 -4.99828032e+06  1.74161864e+07 -2.43119084e+06\n",
      "   5.25295400e+10]\n",
      " [ 2.04003422e+04 -5.16095301e+03 -1.23090544e+03 -1.04926771e+04\n",
      "  -4.99828032e+06  1.85488036e+04 -3.74063824e+03  8.41870423e+02\n",
      "  -7.12810999e+06]\n",
      " [-5.27893716e+04  1.28003592e+04  8.54370096e+02  1.94390717e+03\n",
      "   1.74161864e+07 -3.74063824e+03  1.31286921e+04 -1.70043507e+03\n",
      "   1.62372440e+07]\n",
      " [ 8.59899282e+03 -2.20442541e+03 -1.35759466e+02 -9.67624913e+02\n",
      "  -2.43119084e+06  8.41870423e+02 -1.70043507e+03  3.80427908e+02\n",
      "  -2.09530739e+06]\n",
      " [-5.92696868e+07  3.49228261e+07  2.89138322e+06  8.50750834e+06\n",
      "   5.25295400e+10 -7.12810999e+06  1.62372440e+07 -2.09530739e+06\n",
      "   5.57662757e+10]]\n"
     ]
    }
   ],
   "source": [
    "cov=X_cent.dot(X_cent.T)\n",
    "print(cov)"
   ]
  },
  {
   "attachments": {},
   "cell_type": "markdown",
   "id": "9019cd5d",
   "metadata": {},
   "source": [
    "<span style=\"color:white\">4.对协方差矩阵$X$.$X^T$做特征值分解，即求出协方差矩阵的特征值$\\vec{\\lambda}=\\{\\lambda_1,\\lambda_2,...,\\lambda_d\\}$及对应的特征向量$\\vec{\\omega}=\\{\\omega_1,\\omega_2,...,\\omega_d\\}$. 其中$\\lambda_i \\sim \\omega_i$.</span>"
   ]
  },
  {
   "cell_type": "code",
   "execution_count": 7,
   "id": "de4da6b1",
   "metadata": {},
   "outputs": [
    {
     "name": "stdout",
     "output_type": "stream",
     "text": [
      "[1.11342747e+11 6.11653233e+09 2.07662463e+05 1.62903834e+05\n",
      " 2.24346102e+04 1.21999805e+04 2.13848213e+03 1.01593379e+02\n",
      " 7.03486236e+02]\n"
     ]
    }
   ],
   "source": [
    "vals,vecs=np.linalg.eig(cov)\n",
    "print(vals)\n",
    "#print(vecs)"
   ]
  },
  {
   "cell_type": "markdown",
   "id": "231d75c4",
   "metadata": {},
   "source": [
    "<span style=\"color:purple\">5.选取降维后的维度k：依据特征值计算方差的贡献率，先将所有特征值按照降序进行排序。要求降维后的数据方差占比超过阈值t%，公式如下. 我们这里取阈值为t%=99%:\n",
    "    $$\\frac{\\sum_{i=1}^k\\lambda_i}{\\sum_{i=1}^k\\lambda_i} \\geq t\\%$$\n",
    "</span>"
   ]
  },
  {
   "cell_type": "code",
   "execution_count": 8,
   "id": "9e71a84e",
   "metadata": {},
   "outputs": [
    {
     "name": "stdout",
     "output_type": "stream",
     "text": [
      "[111342746990.98256, 6116532333.646044, 207662.46299642485, 162903.8341571683, 22434.610243267824, 12199.980479091697, 2138.4821263009967, 703.4862363566142, 101.59337903285349]\n",
      "2\n"
     ]
    }
   ],
   "source": [
    "or_vals=sorted(vals,reverse=True)\n",
    "print(or_vals)\n",
    "num=0\n",
    "for i in range(len(or_vals)):\n",
    "    num+=or_vals[i]\n",
    "    if num/sum(or_vals)>0.99:\n",
    "        k=i+1\n",
    "        break\n",
    "print(k)"
   ]
  },
  {
   "cell_type": "markdown",
   "id": "bffdeb99",
   "metadata": {},
   "source": [
    "<span style=\"color:purple\">6.将特征向量按对应特征值大小从上到下按行排列，取前k个对应特征值最大的特征向量组成投影矩阵W=($\\omega_1,\\omega_2,...,\\omega_k$)</span>"
   ]
  },
  {
   "cell_type": "code",
   "execution_count": 9,
   "id": "956b172f",
   "metadata": {},
   "outputs": [
    {
     "name": "stdout",
     "output_type": "stream",
     "text": [
      "[[ 8.07327698e-04 -5.57055026e-04  9.25215339e-01  3.28783999e-01\n",
      "  -3.94786565e-02  6.08330796e-02  1.72243208e-01  2.86316097e-02\n",
      "   1.14007614e-02]\n",
      " [-5.11348092e-04  9.41707964e-04 -2.28627282e-01  6.52814366e-01\n",
      "   5.94987240e-01  4.01990656e-01 -2.82288000e-02 -9.11761529e-04\n",
      "   7.18179698e-02]]\n",
      "[-5.11348092e-04  9.41707964e-04 -2.28627282e-01  6.52814366e-01\n",
      "  5.94987240e-01  4.01990656e-01 -2.82288000e-02 -9.11761529e-04\n",
      "  7.18179698e-02]\n"
     ]
    }
   ],
   "source": [
    "index=[]    #\n",
    "for i in range(k):\n",
    "    index.append(np.argwhere(vals==or_vals[i])[0][0])   #找到对应特征值最大的特征向量的下标\n",
    "\n",
    "W=vecs[index]\n",
    "print(W)\n",
    "print(vecs[1])\n"
   ]
  },
  {
   "cell_type": "markdown",
   "id": "207a7025",
   "metadata": {},
   "source": [
    "<span style=\"color:purple\">7.根据公式$Y=P.X$得到降维到k维后的数据集Y。"
   ]
  },
  {
   "cell_type": "code",
   "execution_count": 10,
   "id": "ec0fa808",
   "metadata": {},
   "outputs": [
    {
     "name": "stdout",
     "output_type": "stream",
     "text": [
      "(2, 167)\n"
     ]
    }
   ],
   "source": [
    "Y=W.dot(X_cent)\n",
    "print(Y.shape)"
   ]
  },
  {
   "cell_type": "markdown",
   "id": "690ecc20",
   "metadata": {},
   "source": [
    "**<font color = green size=3>2):聚类</font>**"
   ]
  },
  {
   "cell_type": "markdown",
   "id": "22957bb3",
   "metadata": {},
   "source": [
    "由于降维实验任务中降维后的维数符号为k，而聚类实验中聚类数目的符号也为k，为了区别，我们将聚类实验中聚类数目的符号改为$k_c$"
   ]
  },
  {
   "cell_type": "markdown",
   "id": "463cffa1",
   "metadata": {},
   "source": [
    "<span style=\"color:purple\">1.首先编写计算衡量样本间的相似度的距离，这里列举两种距离公式.</span>\n",
    "    \n",
    "<span style=\"color:purple\">a.曼哈顿距离计算公式:  \n",
    "    对于两个d维的样本$x_i$,$x_j$,他们的曼哈顿距离计算公式为:  \n",
    "    $$dist_{man}(x_i,x_j)=\\sum_{u=1}^d |x_{iu}-x_{ju}|$$\n",
    "其中$x_{iu}$和$x_{ju}$分别为样本$x_i$和$x_j$的第u维特征值</span>\n",
    "\n",
    "<span style=\"color:purple\">b.欧式距离计算公式:  \n",
    "    对于两个d维的样本$x_i$,$x_j$,他们的欧式距离计算公式为:  \n",
    "    $$dist_{ed}(x_i,x_j)=\\sqrt{\\sum_{u=1}^d (x_{iu}-x_{ju})^2}$$\n",
    "其中$x_{iu}$和$x_{ju}$分别为样本$x_i$和$x_j$的第u维特征值</span>"
   ]
  },
  {
   "cell_type": "code",
   "execution_count": 11,
   "id": "3481ab94",
   "metadata": {},
   "outputs": [
    {
     "name": "stdout",
     "output_type": "stream",
     "text": [
      "1.9990900429945622\n"
     ]
    }
   ],
   "source": [
    "#这里选取了欧式距离\n",
    "def dis(x,y):\n",
    "    return np.linalg.norm((x-y))\n",
    "x=np.array([1,0])\n",
    "y=np.array([2,1.731])\n",
    "print(dis(x,y))"
   ]
  },
  {
   "cell_type": "markdown",
   "id": "863deba2",
   "metadata": {},
   "source": [
    "<span style=\"color:purple\">2.确定聚类簇数$k_{c}$，然后从前面所得到的降维数据集Y中随机选取$k_{c}$个样本作为初始均值向量$\\{\\mu_1,\\mu_2,...,\\mu_{k_{c}}\\}$</span>\n"
   ]
  },
  {
   "cell_type": "code",
   "execution_count": 17,
   "id": "e4824547",
   "metadata": {},
   "outputs": [
    {
     "name": "stdout",
     "output_type": "stream",
     "text": [
      "[[ -868.40187064 21710.72080699]\n",
      " [  439.56436499 -9384.88254472]\n",
      " [  402.7419853  -9034.97223228]\n",
      " [ -293.02254099  8665.29125534]\n",
      " [   60.39839674 -2315.20531552]\n",
      " [ -504.5632155   7348.6916606 ]\n",
      " [   25.56876201 -1370.94632999]]\n",
      "7\n"
     ]
    }
   ],
   "source": [
    "k_c=7       #聚类数量，可更改\n",
    "index=random.sample(range(Y.shape[1]), k_c) #随机取出k_c个来初始化\n",
    "vector_0=Y.T[index]\n",
    "print(vector_0)\n",
    "dim=vector_0.shape      \n",
    "print(dim[0])"
   ]
  },
  {
   "cell_type": "code",
   "execution_count": null,
   "id": "2a6fd1c1",
   "metadata": {},
   "outputs": [],
   "source": []
  },
  {
   "cell_type": "markdown",
   "id": "1ecf8517",
   "metadata": {},
   "source": [
    "<span style=\"color:purple\">3.开始进行迭代。每一轮更新均值向量，直到均值向量不再变化则停止迭代</span>"
   ]
  },
  {
   "attachments": {},
   "cell_type": "markdown",
   "id": "5b133f63",
   "metadata": {},
   "source": [
    "<span style=\"color:white\">迭代步骤1).遍历每个样本$x_j$,计算其与当前的各个均值向量$\\mu_i$的距离$d_{ji}$，比较与每个均值向量的距离大小，\n",
    "   $$\\lambda_j=arg min_{i \\in \\{1,2,...,k_{c}\\}}d_{ji}$$ \n",
    "    将其划入与其距离最近的簇中。\n",
    "$$C_{\\lambda_j}=C_{\\lambda_j}\\bigcup{x_j}$$\n",
    "</span>\n",
    "\n",
    "<span style=\"color:white\">迭代步骤2).将所有样本划分完成生成$k_{c}$个簇$\\{C_1,C_2,...,C_{k_{c}}\\}$。对于每个簇$C_i$，计算该簇的新均值向量，公式为:\n",
    "$$\\mu_i^{'}=\\frac{1}{|C_i|}\\sum_{x \\in C_i}x$$\n",
    "</span>\n",
    "<span style=\"color:white\">迭代步骤3).将更新的均值向量$\\{\\mu_1^{'},\\mu_2^{'},...,\\mu_{k_{c}}^{'}\\}$与该轮未更新前的均值向量$\\{\\mu_1,\\mu_2,...,\\mu_{k_{c}}\\}$进行比较.  如果完全一样，则结束迭代；如果不一样，则继续迭代.\n",
    "</span>"
   ]
  },
  {
   "cell_type": "code",
   "execution_count": 19,
   "id": "75e99de9",
   "metadata": {},
   "outputs": [
    {
     "name": "stdout",
     "output_type": "stream",
     "text": [
      "[[-2069.98358942 43740.88388516]\n",
      " [  454.80417097 -9813.88559804]\n",
      " [  306.83044611 -7071.1686905 ]\n",
      " [ -673.91068995 17544.75498721]\n",
      " [  143.97235326 -4012.65798802]\n",
      " [ -353.11730205  8071.34404351]\n",
      " [  -76.09964725   533.6252004 ]]\n",
      "167\n",
      "5\n"
     ]
    }
   ],
   "source": [
    "epoch=20    #迭代次数\n",
    "\n",
    "Y_=Y.T\n",
    "vector_new=vector_0\n",
    "dim=vector_0.shape\n",
    "actual_epoch=0  #实际迭代次数\n",
    "for i in range(epoch):\n",
    "    #划分\n",
    "    label=[]\n",
    "    vector_old=vector_new\n",
    "    for j in range(Y.shape[1]):      #遍历所有向量\n",
    "        current_label=k_c-1     #先分为第4类\n",
    "        current_vector=Y[:, j]\n",
    "        mindis=dis(vector_old[current_label], current_vector) \n",
    "        for k in range(k_c-1):  #0-3，找到对应label\n",
    "            if dis(vector_old[k], current_vector)<mindis:\n",
    "                mindis=dis(vector_old[k], current_vector)\n",
    "                current_label=k\n",
    "        label.append(current_label)\n",
    "    #重新计算\n",
    "    vector_new=np.empty(shape=(dim[0], dim[1]))\n",
    "    for j in range(k_c):\n",
    "        label_index=[x for x, y in list(enumerate(label)) if y==j]  #从列表中选择满足条件的值，返回下标\n",
    "        vector_index=Y[:,label_index]\n",
    "        vector=vector_index.mean(axis=1)\n",
    "        vector_new[j]=vector\n",
    "    #判断条件\n",
    "    if (vector_new==vector_old).all():  #若更新前后所有均值向量相同，则退出循环\n",
    "        break\n",
    "    actual_epoch+=1\n",
    "\n",
    "print(vector_new)       #更新迭代后的均值向量\n",
    "print(len(label))       #每个点的label值\n",
    "print(actual_epoch)\n",
    "\n",
    "    "
   ]
  },
  {
   "cell_type": "markdown",
   "id": "abfef545",
   "metadata": {},
   "source": [
    "<span style=\"color:purple\">4.判断是否有空簇，返回所有非空的簇</span>"
   ]
  },
  {
   "cell_type": "code",
   "execution_count": 20,
   "id": "f1c36f4c",
   "metadata": {},
   "outputs": [
    {
     "name": "stdout",
     "output_type": "stream",
     "text": [
      "[0, 1, 2, 3, 4, 5, 6]\n"
     ]
    }
   ],
   "source": [
    "label_list=list(range(k_c))\n",
    "for j in range(k_c):\n",
    "    label_index=[x for x, y in list(enumerate(label)) if y==j]  #如果label中没有对应k_c中的值，说明对应的簇为空\n",
    "    if len(label_index)==0:\n",
    "        label_list.remove(j)    #排除空簇\n",
    "print(label_list)"
   ]
  },
  {
   "attachments": {},
   "cell_type": "markdown",
   "id": "72c1e085",
   "metadata": {},
   "source": [
    "<span style=\"color:purple\">5.所有簇划分完成后，我们引入内部指标中的DB指数对该次聚类进行评估. 公式如下:\n",
    "$$DBI=\\frac{1}{k_{c}}\\sum_{i=1}^{k_{c}} \\mathop{max}\\limits_{j\\neq i}\\frac{avg(C_i)+avg(C_j)}{d_{cen}(C_i,C_j)}$$\n",
    "其中avg(C)、$d_{cen}(C_i,C_j)$表示簇C内样本间的平均距离和簇$C_i$和簇$C_j$中心点间的距离:\n",
    "$$avg(C)=\\frac{2}{|C|(|C|-1)}\\sum_{1\\leq i\\leq j \\leq |C|}dist(x_i,x_j)$$\n",
    "其中:\n",
    "$$d_{cen}(C_i,C_j)=dist(\\mu_i,\\mu_j)$$\n",
    "</span>"
   ]
  },
  {
   "cell_type": "code",
   "execution_count": 21,
   "id": "aa2e2d8d",
   "metadata": {},
   "outputs": [
    {
     "name": "stdout",
     "output_type": "stream",
     "text": [
      "0.6926667548458123\n"
     ]
    }
   ],
   "source": [
    "def avg(kc_index):\n",
    "    label_index=[x for x, y in list(enumerate(label)) if y==kc_index]\n",
    "    kvector=Y[:, label_index]\n",
    "    sumdist=0\n",
    "    modc=len(label_index)\n",
    "    for i in range(modc):\n",
    "        for j in range(i+1,modc):\n",
    "            sumdist+=dis(kvector[:, i], kvector[:, j])\n",
    "    return 2*sumdist/(modc*(modc-1))\n",
    "def dcen(k_c1, k_c2):\n",
    "    \"\"\" index1=[x for x, y in list(enumerate(label)) if y==k_c1]    #找到对应k_c1类的下标\n",
    "    index2=[x for x, y in list(enumerate(label)) if y==k_c2]    \n",
    "    vector1=Y[:, index1]    #对应k——c1类的向量\n",
    "    vector2=Y[:, index2]\n",
    "    vec1=vector1.mean(axis=1)\n",
    "    vec2=vector2.mean(axis=1) \"\"\"\n",
    "    vec1=vector_new[k_c1]   #对应类别的均值向量\n",
    "    vec2=vector_new[k_c2]\n",
    "    return dis(vec1,vec2)   #返回均值向量的距离\n",
    "sumdb=0\n",
    "for i in range(k_c):\n",
    "    listr=list(range(k_c))\n",
    "    listr.remove(i)     #确保j！=i\n",
    "    maxdb=(avg(i)+avg(listr[0]))/dcen(i, listr[0]) #初始化maxdb\n",
    "    for j in listr:\n",
    "        if (avg(i)+avg(j))/dcen(i,j)>maxdb:\n",
    "            maxdb=(avg(i)+avg(j))/dcen(i,j)   #更新maxdb\n",
    "    sumdb+=maxdb    #对maxdb求和\n",
    "DBI=sumdb/k_c\n",
    "print(DBI)\n",
    "#DBI值为0.69,较为合理！实际分5-7类都较为合适！\n",
    "    "
   ]
  },
  {
   "cell_type": "markdown",
   "id": "2415dff9",
   "metadata": {},
   "source": [
    "<span style=\"color:purple\">6.请从降维的特征值选择其中两个作为绘图的横纵坐标，将所有样本绘制到一张图中，其中同一聚类的样本点绘制为相同颜色</span>"
   ]
  },
  {
   "cell_type": "code",
   "execution_count": 22,
   "id": "89916414",
   "metadata": {},
   "outputs": [
    {
     "name": "stdout",
     "output_type": "stream",
     "text": [
      "(2, 167)\n"
     ]
    },
    {
     "data": {
      "image/png": "[encoded data removed]",
      "text/plain": [
       "<Figure size 640x480 with 1 Axes>"
      ]
     },
     "metadata": {},
     "output_type": "display_data"
    }
   ],
   "source": [
    "import matplotlib.pyplot as plt\n",
    "print(Y.shape)\n",
    "for i in range(k_c):    #遍历类别\n",
    "    index=[x for x, y in list(enumerate(label)) if y==i]\n",
    "    x=Y[0, index]\n",
    "    y=Y[1, index]\n",
    "    plt.scatter(x,y, label=i)   #循环画散点图时，会自动给每组数据分配不同颜色！\n",
    "plt.legend()\n",
    "plt.show()"
   ]
  },
  {
   "cell_type": "code",
   "execution_count": null,
   "id": "7d92eeb7",
   "metadata": {},
   "outputs": [],
   "source": []
  }
 ],
 "metadata": {
  "kernelspec": {
   "display_name": "VoiceRecognition",
   "language": "python",
   "name": "python3"
  },
  "language_info": {
   "codemirror_mode": {
    "name": "ipython",
    "version": 3
   },
   "file_extension": ".py",
   "mimetype": "text/x-python",
   "name": "python",
   "nbconvert_exporter": "python",
   "pygments_lexer": "ipython3",
   "version": "3.9.13 (main, Oct 13 2022, 21:23:06) [MSC v.1916 64 bit (AMD64)]"
  },
  "vscode": {
   "interpreter": {
    "hash": "b45b532eb9745f84a7c46c4d197897bf926f213f9d63e18b78fe8b0913e9add4"
   }
  }
 },
 "nbformat": 4,
 "nbformat_minor": 5
}
